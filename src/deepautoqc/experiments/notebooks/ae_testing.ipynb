{
 "cells": [
  {
   "cell_type": "code",
   "execution_count": 3,
   "metadata": {},
   "outputs": [],
   "source": [
    "#from deepautoqc.ae_architecture import Autoencoder, Encoder, Decoder\n",
    "from deepautoqc.ae_arch2 import Encoder_AE, Decoder_AE, Autoencoder\n",
    "import torch\n",
    "import matplotlib.pyplot as plt\n",
    "from deepautoqc.data_structures import load_from_pickle, BrainScan\n",
    "import numpy as np\n",
    "import torchio as tio"
   ]
  },
  {
   "cell_type": "code",
   "execution_count": 4,
   "metadata": {},
   "outputs": [],
   "source": [
    "def load_to_tensor(img: np.ndarray) -> torch.Tensor:\n",
    "    transform = tio.CropOrPad((3, 704, 800))\n",
    "    img = img.transpose((2, 0, 1))\n",
    "    img = torch.from_numpy(img)\n",
    "    img = tio.ScalarImage(tensor=img[None])\n",
    "    img = transform(img)\n",
    "    img = img.data[0]\n",
    "\n",
    "    return img.float()\n"
   ]
  },
  {
   "cell_type": "code",
   "execution_count": 5,
   "metadata": {},
   "outputs": [],
   "source": [
    "def display_reconstruction(model, image):\n",
    "    # Ensure the model is in evaluation mode\n",
    "    model.eval()\n",
    "\n",
    "    # Make sure the image is on the right device and has the expected dimensions\n",
    "    print(image.shape)\n",
    "    image = image.to(model.device).unsqueeze(0) # Add batch dimension if needed\n",
    "    print(image.shape)\n",
    "    # Pass the image through the autoencoder\n",
    "    with torch.no_grad():\n",
    "        reconstructed_image = model(image)\n",
    "\n",
    "    # Convert to numpy and remove batch dimension\n",
    "    original_image_np = image.squeeze(0).cpu().numpy()\n",
    "    reconstructed_image_np = reconstructed_image.squeeze(0).cpu().numpy()\n",
    "\n",
    "    # Assuming the images are single-channel, you might need to use squeeze to remove the channel dimension\n",
    "    original_image_np = original_image_np.squeeze()\n",
    "    reconstructed_image_np = reconstructed_image_np.squeeze()\n",
    "\n",
    "    original_image_np = original_image_np.transpose((1, 2, 0))\n",
    "    reconstructed_image_np = reconstructed_image_np.transpose((1, 2, 0))\n",
    "\n",
    "    print(\"ORIG\", original_image_np.min(), original_image_np.max())\n",
    "    print(\"REC\",reconstructed_image_np.min(), reconstructed_image_np.max())\n",
    "\n",
    "    # Create a subplot to display the original and reconstructed images\n",
    "    fig, axes = plt.subplots(1, 2, figsize=(10, 5))\n",
    "    axes[0].imshow(original_image_np, cmap='gray')\n",
    "    axes[0].set_title('Original Image')\n",
    "    axes[0].axis('off')\n",
    "\n",
    "    axes[1].imshow(reconstructed_image_np, cmap='gray')\n",
    "    axes[1].set_title('Reconstructed Image')\n",
    "    axes[1].axis('off')\n",
    "\n",
    "    plt.show()\n",
    "\n",
    "# Example usage:\n",
    "# image = load_an_image() # Some function to load an image tensor\n",
    "# display_reconstruction(model, image)\n"
   ]
  },
  {
   "cell_type": "code",
   "execution_count": 6,
   "metadata": {},
   "outputs": [],
   "source": [
    "def is_anomaly(model, image, threshold):\n",
    "    model.eval()\n",
    "    \n",
    "    image = image.to(model.device).unsqueeze(0)\n",
    "\n",
    "    with torch.no_grad():\n",
    "        reconstructed_image = model(image)\n",
    "\n",
    "    error = torch.nn.functional.mse_loss(image, reconstructed_image)\n",
    "\n",
    "    #classification = \"normal\" if error < threshold else \"anomaly\"\n",
    "    return error\n"
   ]
  },
  {
   "cell_type": "code",
   "execution_count": 7,
   "metadata": {},
   "outputs": [],
   "source": [
    "device = torch.device(\"cuda\" if torch.cuda.is_available() else \"cpu\")"
   ]
  },
  {
   "cell_type": "code",
   "execution_count": null,
   "metadata": {},
   "outputs": [],
   "source": [
    "latent_dim = 64\n",
    "#model = Autoencoder(base_channel_size=32, latent_dim=latent_dim)"
   ]
  },
  {
   "cell_type": "code",
   "execution_count": 8,
   "metadata": {},
   "outputs": [],
   "source": [
    "#ckpt_path = \"/Users/Dominik/Charite/DeepAutoQC/src/deepautoqc/ckpts/AE_384-22-1886.ckpt\"\n",
    "ckpt_path = \"/Users/Dominik/Charite/DeepAutoQC/src/deepautoqc/ckpts/autoencoder-epoch=19-val_loss=0.00.ckpt\""
   ]
  },
  {
   "cell_type": "code",
   "execution_count": 9,
   "metadata": {},
   "outputs": [],
   "source": [
    "#model.load_from_checkpoint(ckpt_path_2, map_location=torch.device('cpu'))\n",
    "model = Autoencoder.load_from_checkpoint(ckpt_path, map_location=device, data_module=None)"
   ]
  },
  {
   "cell_type": "code",
   "execution_count": 10,
   "metadata": {},
   "outputs": [
    {
     "data": {
      "text/plain": [
       "Autoencoder(\n",
       "  (encoder): Encoder_AE(\n",
       "    (conv1): Conv2d(3, 32, kernel_size=(3, 3), stride=(1, 1), padding=(1, 1))\n",
       "    (conv2): Conv2d(32, 64, kernel_size=(3, 3), stride=(2, 2), padding=(1, 1))\n",
       "    (conv3): Conv2d(64, 128, kernel_size=(3, 3), stride=(2, 2), padding=(1, 1))\n",
       "    (bn1): BatchNorm2d(32, eps=1e-05, momentum=0.1, affine=True, track_running_stats=True)\n",
       "    (bn2): BatchNorm2d(64, eps=1e-05, momentum=0.1, affine=True, track_running_stats=True)\n",
       "    (bn3): BatchNorm2d(128, eps=1e-05, momentum=0.1, affine=True, track_running_stats=True)\n",
       "    (relu): ReLU()\n",
       "  )\n",
       "  (decoder): Decoder_AE(\n",
       "    (deconv1): ConvTranspose2d(128, 64, kernel_size=(3, 3), stride=(2, 2), padding=(1, 1), output_padding=(1, 1))\n",
       "    (deconv2): ConvTranspose2d(64, 32, kernel_size=(3, 3), stride=(2, 2), padding=(1, 1), output_padding=(1, 1))\n",
       "    (deconv3): ConvTranspose2d(32, 3, kernel_size=(3, 3), stride=(1, 1), padding=(1, 1))\n",
       "    (bn1): BatchNorm2d(64, eps=1e-05, momentum=0.1, affine=True, track_running_stats=True)\n",
       "    (bn2): BatchNorm2d(32, eps=1e-05, momentum=0.1, affine=True, track_running_stats=True)\n",
       "    (relu): ReLU()\n",
       "    (sigmoid): Sigmoid()\n",
       "  )\n",
       ")"
      ]
     },
     "execution_count": 10,
     "metadata": {},
     "output_type": "execute_result"
    }
   ],
   "source": [
    "model"
   ]
  },
  {
   "cell_type": "code",
   "execution_count": 11,
   "metadata": {},
   "outputs": [],
   "source": [
    "bad_subject_data =  load_from_pickle(\"/Volumes/PortableSSD/data/skullstrip_rpt_processed_unusable/ds-hcp_sub-122620_skull_strip_report_ds-hcp_sub-122620_report-skull.pkl\")\n",
    "good_subject_data = load_from_pickle(\"/Volumes/PortableSSD/data/skullstrip_rpt_processed_usable/ds-pnc_chunk-9_reports_sub-607733289129_report-skull.pkl\")"
   ]
  },
  {
   "cell_type": "code",
   "execution_count": 26,
   "metadata": {},
   "outputs": [
    {
     "name": "stdout",
     "output_type": "stream",
     "text": [
      "0.004826251417398453\n",
      "0.005108018405735493\n",
      "0.005246909335255623\n",
      "0.004962102044373751\n",
      "0.004873546306043863\n",
      "0.004788018297404051\n",
      "0.004441829398274422\n",
      "0.004180642776191235\n",
      "0.004379771649837494\n",
      "0.004226073622703552\n",
      "0.0033179151359945536\n",
      "0.004206518642604351\n",
      "0.004475178197026253\n",
      "0.00424937903881073\n",
      "0.003019413910806179\n",
      "0.0039051014464348555\n",
      "0.0038943735416978598\n",
      "0.003423169255256653\n",
      "0.0033993409015238285\n",
      "0.0028970001731067896\n",
      "0.0021845384035259485\n"
     ]
    }
   ],
   "source": [
    "for subject in bad_subject_data:\n",
    "    img = subject.img\n",
    "    img_tensor = load_to_tensor(img=img)\n",
    "\n",
    "    #display_reconstruction(model=model, image=img_tensor)\n",
    "    error = is_anomaly(model, image=img_tensor, threshold=0)\n",
    "    print(error.item())"
   ]
  },
  {
   "cell_type": "code",
   "execution_count": 27,
   "metadata": {},
   "outputs": [
    {
     "name": "stdout",
     "output_type": "stream",
     "text": [
      "0.0069738030433654785\n",
      "0.00784993451088667\n",
      "0.008321424946188927\n",
      "0.00819751899689436\n",
      "0.00839664600789547\n",
      "0.008240921422839165\n",
      "0.006975465454161167\n",
      "0.006753566209226847\n",
      "0.008451194502413273\n",
      "0.008425210602581501\n",
      "0.006614774465560913\n",
      "0.008393190801143646\n",
      "0.008549758233129978\n",
      "0.006958923768252134\n",
      "0.006926208268851042\n",
      "0.009643963538110256\n",
      "0.010753598995506763\n",
      "0.0090930862352252\n",
      "0.008254941552877426\n",
      "0.0068747722543776035\n",
      "0.00451842462643981\n"
     ]
    }
   ],
   "source": [
    "for subject in good_subject_data:\n",
    "    img = subject.img\n",
    "    img_tensor = load_to_tensor(img=img)\n",
    "\n",
    "    #display_reconstruction(model=model, image=img_tensor)\n",
    "    error = is_anomaly(model, image=img_tensor, threshold=0)\n",
    "    print(error.item())"
   ]
  },
  {
   "cell_type": "code",
   "execution_count": null,
   "metadata": {},
   "outputs": [],
   "source": [
    "for subject in bad_subject_data:\n",
    "    img = subject.img\n",
    "    img_tensor = load_to_tensor(img=img)\n",
    "\n",
    "    display_reconstruction(model=model, image=img_tensor)"
   ]
  },
  {
   "cell_type": "code",
   "execution_count": null,
   "metadata": {},
   "outputs": [],
   "source": [
    "for subject in good_subject_data:\n",
    "    img = subject.img\n",
    "    img_tensor = load_to_tensor(img=img)\n",
    "\n",
    "    display_reconstruction(model=model, image=img_tensor)"
   ]
  },
  {
   "cell_type": "code",
   "execution_count": 12,
   "metadata": {},
   "outputs": [
    {
     "name": "stderr",
     "output_type": "stream",
     "text": [
      "/Users/Dominik/miniconda3/envs/autoqc/lib/python3.11/site-packages/umap/distances.py:1063: NumbaDeprecationWarning: \u001b[1mThe 'nopython' keyword argument was not supplied to the 'numba.jit' decorator. The implicit default value for this argument is currently False, but it will be changed to True in Numba 0.59.0. See https://numba.readthedocs.io/en/stable/reference/deprecation.html#deprecation-of-object-mode-fall-back-behaviour-when-using-jit for details.\u001b[0m\n",
      "  @numba.jit()\n",
      "/Users/Dominik/miniconda3/envs/autoqc/lib/python3.11/site-packages/umap/distances.py:1071: NumbaDeprecationWarning: \u001b[1mThe 'nopython' keyword argument was not supplied to the 'numba.jit' decorator. The implicit default value for this argument is currently False, but it will be changed to True in Numba 0.59.0. See https://numba.readthedocs.io/en/stable/reference/deprecation.html#deprecation-of-object-mode-fall-back-behaviour-when-using-jit for details.\u001b[0m\n",
      "  @numba.jit()\n",
      "/Users/Dominik/miniconda3/envs/autoqc/lib/python3.11/site-packages/umap/distances.py:1086: NumbaDeprecationWarning: \u001b[1mThe 'nopython' keyword argument was not supplied to the 'numba.jit' decorator. The implicit default value for this argument is currently False, but it will be changed to True in Numba 0.59.0. See https://numba.readthedocs.io/en/stable/reference/deprecation.html#deprecation-of-object-mode-fall-back-behaviour-when-using-jit for details.\u001b[0m\n",
      "  @numba.jit()\n",
      "/Users/Dominik/miniconda3/envs/autoqc/lib/python3.11/site-packages/umap/umap_.py:660: NumbaDeprecationWarning: \u001b[1mThe 'nopython' keyword argument was not supplied to the 'numba.jit' decorator. The implicit default value for this argument is currently False, but it will be changed to True in Numba 0.59.0. See https://numba.readthedocs.io/en/stable/reference/deprecation.html#deprecation-of-object-mode-fall-back-behaviour-when-using-jit for details.\u001b[0m\n",
      "  @numba.jit()\n"
     ]
    }
   ],
   "source": [
    "import umap"
   ]
  },
  {
   "cell_type": "code",
   "execution_count": 19,
   "metadata": {},
   "outputs": [],
   "source": [
    "encoder_outputs = []\n",
    "encoder_outputs_good = []\n",
    "encoder_outputs_bad = []"
   ]
  },
  {
   "cell_type": "code",
   "execution_count": 20,
   "metadata": {},
   "outputs": [],
   "source": [
    "for subject in bad_subject_data:\n",
    "    img = subject.img\n",
    "    img_tensor = load_to_tensor(img=img)\n",
    "    #print(img_tensor.shape)\n",
    "    img_tensor = img_tensor.to(model.device).unsqueeze(0)\n",
    "    with torch.no_grad():\n",
    "        encoder_output = model.encoder(img_tensor)\n",
    "        #print(encoder_output.shape)\n",
    "        encoder_outputs_bad.append(encoder_output.cpu().numpy())\n",
    "    "
   ]
  },
  {
   "cell_type": "code",
   "execution_count": 21,
   "metadata": {},
   "outputs": [],
   "source": [
    "for subject in good_subject_data:\n",
    "    img = subject.img\n",
    "    img_tensor = load_to_tensor(img=img)\n",
    "    #print(img_tensor.shape)\n",
    "    img_tensor = img_tensor.to(model.device).unsqueeze(0)\n",
    "    with torch.no_grad():\n",
    "        encoder_output = model.encoder(img_tensor)\n",
    "        encoder_outputs_good.append(encoder_output.cpu().numpy())"
   ]
  },
  {
   "cell_type": "code",
   "execution_count": 22,
   "metadata": {},
   "outputs": [
    {
     "name": "stdout",
     "output_type": "stream",
     "text": [
      "(21, 1, 128, 176, 200)\n",
      "(21, 1, 128, 176, 200)\n"
     ]
    }
   ],
   "source": [
    "#encoder_outputs = np.concatenate(encoder_outputs, axis=0)\n",
    "#encoder_outputs_bad = np.array(encoder_outputs_bad).reshape(len(encoder_outputs_bad), -1)\n",
    "encoder_outputs_bad = np.array(encoder_outputs_bad)\n",
    "encoder_outputs_good = np.array(encoder_outputs_good)\n",
    "print(encoder_outputs_good.shape)\n",
    "print(encoder_outputs_bad.shape)\n"
   ]
  },
  {
   "cell_type": "code",
   "execution_count": 23,
   "metadata": {},
   "outputs": [
    {
     "data": {
      "text/plain": [
       "(42, 1, 128, 176, 200)"
      ]
     },
     "execution_count": 23,
     "metadata": {},
     "output_type": "execute_result"
    }
   ],
   "source": [
    "encoder_outputs = np.vstack([encoder_outputs_bad, encoder_outputs_good])\n",
    "encoder_outputs.shape"
   ]
  },
  {
   "cell_type": "code",
   "execution_count": 25,
   "metadata": {},
   "outputs": [
    {
     "data": {
      "text/plain": [
       "(42, 128)"
      ]
     },
     "execution_count": 25,
     "metadata": {},
     "output_type": "execute_result"
    }
   ],
   "source": [
    "encoder_outputs_avg = encoder_outputs.mean(axis=(3,4))\n",
    "encoder_outputs_avg = encoder_outputs_avg.squeeze(1)\n",
    "encoder_outputs_avg.shape"
   ]
  },
  {
   "cell_type": "code",
   "execution_count": 29,
   "metadata": {},
   "outputs": [
    {
     "name": "stderr",
     "output_type": "stream",
     "text": [
      "OMP: Info #276: omp_set_nested routine deprecated, please use omp_set_max_active_levels instead.\n"
     ]
    },
    {
     "ename": "",
     "evalue": "",
     "output_type": "error",
     "traceback": [
      "\u001b[1;31mThe Kernel crashed while executing code in the the current cell or a previous cell. Please review the code in the cell(s) to identify a possible cause of the failure. Click <a href='https://aka.ms/vscodeJupyterKernelCrash'>here</a> for more info. View Jupyter <a href='command:jupyter.viewOutput'>log</a> for further details."
     ]
    }
   ],
   "source": [
    "reducer = umap.UMAP()\n",
    "embedding = reducer.fit_transform(encoder_outputs_avg)"
   ]
  },
  {
   "cell_type": "code",
   "execution_count": null,
   "metadata": {},
   "outputs": [],
   "source": [
    "# Plot the result\n",
    "plt.scatter(embedding[:, 0], embedding[:, 1])\n",
    "plt.gca().set_aspect('equal', 'datalim')\n",
    "plt.title('UMAP projection of the data', fontsize=24)\n",
    "plt.show()"
   ]
  }
 ],
 "metadata": {
  "kernelspec": {
   "display_name": "Python 3 (ipykernel)",
   "language": "python",
   "name": "python3"
  },
  "language_info": {
   "codemirror_mode": {
    "name": "ipython",
    "version": 3
   },
   "file_extension": ".py",
   "mimetype": "text/x-python",
   "name": "python",
   "nbconvert_exporter": "python",
   "pygments_lexer": "ipython3",
   "version": "3.11.3"
  }
 },
 "nbformat": 4,
 "nbformat_minor": 2
}
