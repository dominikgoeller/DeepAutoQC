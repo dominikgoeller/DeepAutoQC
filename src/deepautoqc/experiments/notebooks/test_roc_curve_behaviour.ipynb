{
 "cells": [
  {
   "cell_type": "code",
   "execution_count": 92,
   "id": "c9dab5b9",
   "metadata": {},
   "outputs": [],
   "source": [
    "from sklearn.metrics import confusion_matrix, roc_curve, auc, RocCurveDisplay\n",
    "from sklearn.svm import OneClassSVM\n",
    "import numpy as np\n",
    "import matplotlib.pyplot as plt\n",
    "from sklearn import preprocessing"
   ]
  },
  {
   "cell_type": "code",
   "execution_count": 93,
   "id": "ca7a09aa",
   "metadata": {},
   "outputs": [],
   "source": [
    "train_matrix = np.random.randint(0, 80, size=(10000,64))"
   ]
  },
  {
   "cell_type": "code",
   "execution_count": 94,
   "id": "124e8349",
   "metadata": {},
   "outputs": [],
   "source": [
    "scaler = preprocessing.StandardScaler().fit(train_matrix)"
   ]
  },
  {
   "cell_type": "code",
   "execution_count": 95,
   "id": "843052b9",
   "metadata": {},
   "outputs": [],
   "source": [
    "X_scaled = scaler.transform(train_matrix)"
   ]
  },
  {
   "cell_type": "code",
   "execution_count": 15,
   "id": "334ed6dc",
   "metadata": {},
   "outputs": [
    {
     "name": "stdout",
     "output_type": "stream",
     "text": [
      "[13 52 66 41 30 24 48  7 65 61 55  8 70 52 43 32 50 30 64 26 29 68 34 71\n",
      " 17 43 74 53 35  7 42 14 45 37 72  3 18  4 38  3 68 54 69 31  6 59 72 16\n",
      " 59 16 15 49 56 79 75 77 23 75  1 22 69 74 12 60]\n",
      "(50000, 64)\n"
     ]
    }
   ],
   "source": [
    "print(train_matrix[0])\n",
    "print(train_matrix.shape)"
   ]
  },
  {
   "cell_type": "code",
   "execution_count": 128,
   "id": "03d3823d",
   "metadata": {},
   "outputs": [],
   "source": [
    "outliers = np.random.randint(40,120, size=(2000,64))\n",
    "inliers = np.random.randint(0,80, size=(2000, 64))\n",
    "test_matrix =np.concatenate((outliers,inliers), axis=0)"
   ]
  },
  {
   "cell_type": "code",
   "execution_count": 129,
   "id": "e3fd2009",
   "metadata": {},
   "outputs": [],
   "source": [
    "test_matrix_scaled = scaler.transform(test_matrix)"
   ]
  },
  {
   "cell_type": "code",
   "execution_count": 121,
   "id": "e20db426",
   "metadata": {},
   "outputs": [
    {
     "name": "stdout",
     "output_type": "stream",
     "text": [
      "(4000, 64)\n",
      "[2.14940846 2.31296827 2.16499697 2.19547749 2.06372608 2.42304781\n",
      " 2.05130783 2.26414741 1.98106695 2.12752876 2.27120252 1.88901171\n",
      " 2.45104848 2.1120575  2.43587643 2.21554925 2.48537512 1.96257919\n",
      " 2.49579583 2.18670323 1.83966634 2.11195198 2.04820719 2.57390124\n",
      " 1.87449562 2.48549077 2.17611585 1.87378568 2.42099595 2.2105503\n",
      " 2.36986393 1.93803855 2.44477472 2.33059825 2.47648245 1.92912555\n",
      " 2.51786786 2.28479013 1.88220761 1.79896192 2.1790702  1.93925793\n",
      " 2.36126744 2.29088314 2.23106366 2.49705979 2.44232186 2.02130908\n",
      " 2.29046994 2.41658612 2.14661178 1.83798048 2.45210322 2.44409576\n",
      " 2.62349903 2.52760189 1.91308312 2.10658306 2.43707607 2.08173773\n",
      " 1.91968296 2.11769856 1.9364178  1.9718546 ]\n"
     ]
    }
   ],
   "source": [
    "print(test_matrix.shape)\n",
    "print(test_matrix_scaled[99])"
   ]
  },
  {
   "cell_type": "code",
   "execution_count": 9,
   "id": "5b5fb50f",
   "metadata": {},
   "outputs": [],
   "source": [
    "clf = OneClassSVM()"
   ]
  },
  {
   "cell_type": "code",
   "execution_count": 96,
   "id": "fd82d5f7",
   "metadata": {},
   "outputs": [
    {
     "data": {
      "text/html": [
       "<style>#sk-container-id-2 {color: black;}#sk-container-id-2 pre{padding: 0;}#sk-container-id-2 div.sk-toggleable {background-color: white;}#sk-container-id-2 label.sk-toggleable__label {cursor: pointer;display: block;width: 100%;margin-bottom: 0;padding: 0.3em;box-sizing: border-box;text-align: center;}#sk-container-id-2 label.sk-toggleable__label-arrow:before {content: \"▸\";float: left;margin-right: 0.25em;color: #696969;}#sk-container-id-2 label.sk-toggleable__label-arrow:hover:before {color: black;}#sk-container-id-2 div.sk-estimator:hover label.sk-toggleable__label-arrow:before {color: black;}#sk-container-id-2 div.sk-toggleable__content {max-height: 0;max-width: 0;overflow: hidden;text-align: left;background-color: #f0f8ff;}#sk-container-id-2 div.sk-toggleable__content pre {margin: 0.2em;color: black;border-radius: 0.25em;background-color: #f0f8ff;}#sk-container-id-2 input.sk-toggleable__control:checked~div.sk-toggleable__content {max-height: 200px;max-width: 100%;overflow: auto;}#sk-container-id-2 input.sk-toggleable__control:checked~label.sk-toggleable__label-arrow:before {content: \"▾\";}#sk-container-id-2 div.sk-estimator input.sk-toggleable__control:checked~label.sk-toggleable__label {background-color: #d4ebff;}#sk-container-id-2 div.sk-label input.sk-toggleable__control:checked~label.sk-toggleable__label {background-color: #d4ebff;}#sk-container-id-2 input.sk-hidden--visually {border: 0;clip: rect(1px 1px 1px 1px);clip: rect(1px, 1px, 1px, 1px);height: 1px;margin: -1px;overflow: hidden;padding: 0;position: absolute;width: 1px;}#sk-container-id-2 div.sk-estimator {font-family: monospace;background-color: #f0f8ff;border: 1px dotted black;border-radius: 0.25em;box-sizing: border-box;margin-bottom: 0.5em;}#sk-container-id-2 div.sk-estimator:hover {background-color: #d4ebff;}#sk-container-id-2 div.sk-parallel-item::after {content: \"\";width: 100%;border-bottom: 1px solid gray;flex-grow: 1;}#sk-container-id-2 div.sk-label:hover label.sk-toggleable__label {background-color: #d4ebff;}#sk-container-id-2 div.sk-serial::before {content: \"\";position: absolute;border-left: 1px solid gray;box-sizing: border-box;top: 0;bottom: 0;left: 50%;z-index: 0;}#sk-container-id-2 div.sk-serial {display: flex;flex-direction: column;align-items: center;background-color: white;padding-right: 0.2em;padding-left: 0.2em;position: relative;}#sk-container-id-2 div.sk-item {position: relative;z-index: 1;}#sk-container-id-2 div.sk-parallel {display: flex;align-items: stretch;justify-content: center;background-color: white;position: relative;}#sk-container-id-2 div.sk-item::before, #sk-container-id-2 div.sk-parallel-item::before {content: \"\";position: absolute;border-left: 1px solid gray;box-sizing: border-box;top: 0;bottom: 0;left: 50%;z-index: -1;}#sk-container-id-2 div.sk-parallel-item {display: flex;flex-direction: column;z-index: 1;position: relative;background-color: white;}#sk-container-id-2 div.sk-parallel-item:first-child::after {align-self: flex-end;width: 50%;}#sk-container-id-2 div.sk-parallel-item:last-child::after {align-self: flex-start;width: 50%;}#sk-container-id-2 div.sk-parallel-item:only-child::after {width: 0;}#sk-container-id-2 div.sk-dashed-wrapped {border: 1px dashed gray;margin: 0 0.4em 0.5em 0.4em;box-sizing: border-box;padding-bottom: 0.4em;background-color: white;}#sk-container-id-2 div.sk-label label {font-family: monospace;font-weight: bold;display: inline-block;line-height: 1.2em;}#sk-container-id-2 div.sk-label-container {text-align: center;}#sk-container-id-2 div.sk-container {/* jupyter's `normalize.less` sets `[hidden] { display: none; }` but bootstrap.min.css set `[hidden] { display: none !important; }` so we also need the `!important` here to be able to override the default hidden behavior on the sphinx rendered scikit-learn.org. See: https://github.com/scikit-learn/scikit-learn/issues/21755 */display: inline-block !important;position: relative;}#sk-container-id-2 div.sk-text-repr-fallback {display: none;}</style><div id=\"sk-container-id-2\" class=\"sk-top-container\"><div class=\"sk-text-repr-fallback\"><pre>OneClassSVM()</pre><b>In a Jupyter environment, please rerun this cell to show the HTML representation or trust the notebook. <br />On GitHub, the HTML representation is unable to render, please try loading this page with nbviewer.org.</b></div><div class=\"sk-container\" hidden><div class=\"sk-item\"><div class=\"sk-estimator sk-toggleable\"><input class=\"sk-toggleable__control sk-hidden--visually\" id=\"sk-estimator-id-2\" type=\"checkbox\" checked><label for=\"sk-estimator-id-2\" class=\"sk-toggleable__label sk-toggleable__label-arrow\">OneClassSVM</label><div class=\"sk-toggleable__content\"><pre>OneClassSVM()</pre></div></div></div></div></div>"
      ],
      "text/plain": [
       "OneClassSVM()"
      ]
     },
     "execution_count": 96,
     "metadata": {},
     "output_type": "execute_result"
    }
   ],
   "source": [
    "clf.fit(X_scaled)"
   ]
  },
  {
   "cell_type": "code",
   "execution_count": 98,
   "id": "4506bfdb",
   "metadata": {},
   "outputs": [],
   "source": [
    "scores = clf.score_samples(X_scaled)"
   ]
  },
  {
   "cell_type": "code",
   "execution_count": 99,
   "id": "cab35062",
   "metadata": {},
   "outputs": [
    {
     "name": "stdout",
     "output_type": "stream",
     "text": [
      "[664.36191497 639.7402777  601.42534684 602.49587298 608.71284741]\n"
     ]
    }
   ],
   "source": [
    "print(scores[:5])"
   ]
  },
  {
   "cell_type": "code",
   "execution_count": 130,
   "id": "7fedaf7f",
   "metadata": {},
   "outputs": [],
   "source": [
    "test_scores = clf.score_samples(test_matrix_scaled)"
   ]
  },
  {
   "cell_type": "code",
   "execution_count": 131,
   "id": "49cda8d6",
   "metadata": {},
   "outputs": [
    {
     "name": "stdout",
     "output_type": "stream",
     "text": [
      "[44.23773993 20.42602291 27.99804219 72.64316    56.67066562 24.98238696\n",
      " 47.18036773 54.89492013 40.38936819 58.18307893 40.09564246 17.76109075\n",
      " 30.0585875  13.46785751 30.1329919 ]\n"
     ]
    }
   ],
   "source": [
    "print(test_scores[:15])"
   ]
  },
  {
   "cell_type": "code",
   "execution_count": 132,
   "id": "b4925bb7",
   "metadata": {},
   "outputs": [],
   "source": [
    "y_pred = clf.predict(test_matrix_scaled)"
   ]
  },
  {
   "cell_type": "code",
   "execution_count": 115,
   "id": "18e9f126",
   "metadata": {},
   "outputs": [
    {
     "name": "stdout",
     "output_type": "stream",
     "text": [
      "[-1 -1 -1 -1 -1 -1 -1 -1 -1 -1 -1 -1 -1 -1 -1 -1 -1 -1 -1 -1 -1 -1 -1 -1\n",
      " -1 -1 -1 -1 -1 -1 -1 -1 -1 -1 -1 -1 -1 -1 -1 -1 -1 -1 -1 -1 -1 -1 -1 -1\n",
      " -1 -1 -1 -1 -1 -1 -1 -1 -1 -1 -1 -1 -1 -1 -1 -1 -1 -1 -1 -1 -1 -1 -1 -1\n",
      " -1 -1 -1 -1 -1 -1 -1 -1 -1 -1 -1 -1 -1 -1 -1 -1 -1 -1 -1 -1 -1 -1 -1 -1\n",
      " -1 -1 -1 -1]\n"
     ]
    }
   ],
   "source": [
    "print(y_pred[100])"
   ]
  },
  {
   "cell_type": "code",
   "execution_count": 124,
   "id": "4af68daf",
   "metadata": {},
   "outputs": [
    {
     "name": "stdout",
     "output_type": "stream",
     "text": [
      "[-1 -1 -1 -1 -1 -1 -1 -1 -1 -1] [1 1 1 1 1 1 1 1 1 1]\n"
     ]
    }
   ],
   "source": [
    "y_true = np.concatenate((np.full(2000, -1), np.full(2000, 1))) # with wrong labels\n",
    "print(y_true[:10], y_true[-10:])"
   ]
  },
  {
   "cell_type": "code",
   "execution_count": 133,
   "id": "d0cee7a9",
   "metadata": {},
   "outputs": [],
   "source": [
    "fpr, tpr, thresholds = roc_curve(y_true, test_scores)"
   ]
  },
  {
   "cell_type": "code",
   "execution_count": 134,
   "id": "ff38771e",
   "metadata": {},
   "outputs": [
    {
     "name": "stdout",
     "output_type": "stream",
     "text": [
      "1.0\n"
     ]
    }
   ],
   "source": [
    "roc_auc = auc(fpr, tpr)\n",
    "print(roc_auc)"
   ]
  },
  {
   "cell_type": "code",
   "execution_count": 135,
   "id": "501817c6",
   "metadata": {},
   "outputs": [
    {
     "data": {
      "image/png": "[encoded data removed]",
      "text/plain": [
       "<Figure size 640x480 with 1 Axes>"
      ]
     },
     "metadata": {},
     "output_type": "display_data"
    }
   ],
   "source": [
    "display = RocCurveDisplay(fpr=fpr, tpr=tpr, roc_auc=roc_auc,estimator_name='example estimator')\n",
    "display.plot()\n",
    "plt.show()"
   ]
  },
  {
   "cell_type": "code",
   "execution_count": 78,
   "id": "65956be1",
   "metadata": {},
   "outputs": [
    {
     "data": {
      "text/plain": [
       "4210.486491504394"
      ]
     },
     "execution_count": 78,
     "metadata": {},
     "output_type": "execute_result"
    }
   ],
   "source": [
    "threshold_index = np.where(fpr > 0)[0][0]\n",
    "threshold_value = thresholds[threshold_index]\n",
    "threshold_value"
   ]
  },
  {
   "cell_type": "code",
   "execution_count": 57,
   "id": "0aba259e",
   "metadata": {},
   "outputs": [
    {
     "name": "stdout",
     "output_type": "stream",
     "text": [
      "[-1  1  1 -1 -1 -1 -1  1  1 -1]\n"
     ]
    }
   ],
   "source": [
    "train_preds = clf.predict(train_matrix)"
   ]
  },
  {
   "cell_type": "code",
   "execution_count": 60,
   "id": "32cca4ec",
   "metadata": {},
   "outputs": [],
   "source": [
    "y_true_train = np.full(50000,1)"
   ]
  },
  {
   "cell_type": "code",
   "execution_count": 73,
   "id": "b08da962",
   "metadata": {},
   "outputs": [
    {
     "name": "stderr",
     "output_type": "stream",
     "text": [
      "/Users/Dominik/miniconda3/envs/autoqc/lib/python3.11/site-packages/sklearn/metrics/_ranking.py:1123: UndefinedMetricWarning: No negative samples in y_true, false positive value should be meaningless\n",
      "  warnings.warn(\n"
     ]
    }
   ],
   "source": [
    "fpr_train, tpr_train, thresholds_train = roc_curve(y_true_train, scores, pos_label=1)"
   ]
  },
  {
   "cell_type": "code",
   "execution_count": 76,
   "id": "674255be",
   "metadata": {},
   "outputs": [
    {
     "name": "stdout",
     "output_type": "stream",
     "text": [
      "2079.374745398373\n"
     ]
    }
   ],
   "source": [
    "min_train = np.min(scores)\n",
    "print(min_train)"
   ]
  },
  {
   "cell_type": "code",
   "execution_count": 75,
   "id": "036891ff",
   "metadata": {},
   "outputs": [
    {
     "data": {
      "text/plain": [
       "array([nan, nan, nan])"
      ]
     },
     "execution_count": 75,
     "metadata": {},
     "output_type": "execute_result"
    }
   ],
   "source": [
    "fpr_train"
   ]
  },
  {
   "cell_type": "code",
   "execution_count": 74,
   "id": "e80d8d21",
   "metadata": {},
   "outputs": [
    {
     "ename": "IndexError",
     "evalue": "index 0 is out of bounds for axis 0 with size 0",
     "output_type": "error",
     "traceback": [
      "\u001b[0;31m---------------------------------------------------------------------------\u001b[0m",
      "\u001b[0;31mIndexError\u001b[0m                                Traceback (most recent call last)",
      "Cell \u001b[0;32mIn[74], line 1\u001b[0m\n\u001b[0;32m----> 1\u001b[0m threshold_index_train \u001b[38;5;241m=\u001b[39m \u001b[43mnp\u001b[49m\u001b[38;5;241;43m.\u001b[39;49m\u001b[43mwhere\u001b[49m\u001b[43m(\u001b[49m\u001b[43mfpr_train\u001b[49m\u001b[43m \u001b[49m\u001b[38;5;241;43m>\u001b[39;49m\u001b[43m \u001b[49m\u001b[38;5;241;43m0\u001b[39;49m\u001b[43m)\u001b[49m\u001b[43m[\u001b[49m\u001b[38;5;241;43m0\u001b[39;49m\u001b[43m]\u001b[49m\u001b[43m[\u001b[49m\u001b[38;5;241;43m0\u001b[39;49m\u001b[43m]\u001b[49m\n\u001b[1;32m      2\u001b[0m threshold_value_train \u001b[38;5;241m=\u001b[39m thresholds_train[threshold_index_train \u001b[38;5;241m-\u001b[39m \u001b[38;5;241m1\u001b[39m]\n",
      "\u001b[0;31mIndexError\u001b[0m: index 0 is out of bounds for axis 0 with size 0"
     ]
    }
   ],
   "source": [
    "threshold_index_train = np.where(fpr_train > 0)[0][0]\n",
    "threshold_value_train = thresholds_train[threshold_index_train - 1]"
   ]
  },
  {
   "cell_type": "code",
   "execution_count": 86,
   "id": "247533d2",
   "metadata": {},
   "outputs": [],
   "source": [
    "predictions_updated = np.where(min_train > test_scores, -1, 1)"
   ]
  },
  {
   "cell_type": "code",
   "execution_count": 87,
   "id": "468d5655",
   "metadata": {},
   "outputs": [],
   "source": [
    "fpr_up, tpr_up, thresholds_up = roc_curve(y_true, predictions_updated)"
   ]
  },
  {
   "cell_type": "code",
   "execution_count": 89,
   "id": "e02f5371",
   "metadata": {},
   "outputs": [
    {
     "name": "stdout",
     "output_type": "stream",
     "text": [
      "0.33333333333333337\n"
     ]
    }
   ],
   "source": [
    "roc_auc_up = auc(fpr_up, tpr_up)\n",
    "print(roc_auc)"
   ]
  },
  {
   "cell_type": "code",
   "execution_count": 90,
   "id": "64b3dc3e",
   "metadata": {},
   "outputs": [
    {
     "data": {
      "image/png": "[encoded data removed]",
      "text/plain": [
       "<Figure size 640x480 with 1 Axes>"
      ]
     },
     "metadata": {},
     "output_type": "display_data"
    }
   ],
   "source": [
    "display_up = RocCurveDisplay(fpr=fpr_up, tpr=tpr_up, roc_auc=roc_auc_up,estimator_name='example estimator')\n",
    "display_up.plot()\n",
    "plt.show()"
   ]
  },
  {
   "cell_type": "code",
   "execution_count": null,
   "id": "6365d088",
   "metadata": {},
   "outputs": [],
   "source": []
  }
 ],
 "metadata": {
  "kernelspec": {
   "display_name": "autoqc-kernel",
   "language": "python",
   "name": "autoqc-kernel"
  },
  "language_info": {
   "codemirror_mode": {
    "name": "ipython",
    "version": 3
   },
   "file_extension": ".py",
   "mimetype": "text/x-python",
   "name": "python",
   "nbconvert_exporter": "python",
   "pygments_lexer": "ipython3",
   "version": "3.11.3"
  }
 },
 "nbformat": 4,
 "nbformat_minor": 5
}
