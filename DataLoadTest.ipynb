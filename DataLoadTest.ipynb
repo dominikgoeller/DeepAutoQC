{
 "cells": [
  {
   "cell_type": "code",
   "execution_count": null,
   "id": "b65a3b1e-218a-41e6-ad61-0f2bca1a66be",
   "metadata": {},
   "outputs": [],
   "source": [
    "from collections import defaultdict\n",
    "from dataclasses import dataclass\n",
    "import io\n",
    "import json\n",
    "from pathlib import Path\n",
    "\n",
    "from matplotlib import pyplot as plt\n",
    "import numpy as np\n",
    "from scipy import ndimage\n",
    "from seaborn import color_palette\n",
    "\n",
    "import nibabel as nib\n",
    "from nilearn.image import new_img_like, resample_img\n",
    "from nilearn.plotting import plot_anat, view_img\n",
    "from niworkflows.viz.utils import cuts_from_bbox, robust_set_limits\n",
    "from niworkflows.utils.images import rotation2canonical, rotate_affine\n",
    "\n",
    "from halfpipe.utils.path import split_ext"
   ]
  },
  {
   "cell_type": "code",
   "execution_count": null,
   "id": "35a66d3e-4a14-48ba-aa38-af02930c8276",
   "metadata": {},
   "outputs": [],
   "source": [
    "%matplotlib inline"
   ]
  },
  {
   "cell_type": "code",
   "execution_count": null,
   "id": "83e5b299-b8c7-4ca9-9fc6-47301fe6c430",
   "metadata": {},
   "outputs": [],
   "source": [
    "base_directory = Path(\"/mnt/mbServerData/newdata/moods/halfpipe/bonn\")"
   ]
  },
  {
   "cell_type": "code",
   "execution_count": null,
   "id": "e41e8c08-827b-48ef-8515-d44b4831520e",
   "metadata": {},
   "outputs": [],
   "source": [
    "exclude_files = list(base_directory.glob(\"exclude*.json\"))\n",
    "exclude_entries = list()\n",
    "\n",
    "for exclude_file in exclude_files:\n",
    "    with open(exclude_file) as file_handle:\n",
    "        exclude_entries.extend(json.load(file_handle))"
   ]
  },
  {
   "cell_type": "code",
   "execution_count": null,
   "id": "a5ca7e77-1804-4124-b007-26d4b1c3b78b",
   "metadata": {},
   "outputs": [],
   "source": [
    "paths_by_tags = defaultdict(lambda: defaultdict(set))\n",
    "tags_by_paths = dict()\n",
    "\n",
    "bids_directory = base_directory / \"derivatives\" / \"fmriprep\"\n",
    "for bids_path in bids_directory.glob(\"**/*\"):\n",
    "    stem, extension = split_ext(bids_path)\n",
    "\n",
    "    if stem.startswith(\".\"):\n",
    "        continue  # skip hidden files\n",
    "\n",
    "    tokens = stem.split(\"_\")\n",
    "\n",
    "    tags = dict(\n",
    "        path=str(bids_directory), \n",
    "        suffix=tokens.pop(-1),\n",
    "        extension=extension,\n",
    "    )\n",
    "    tags_by_paths[bids_path] = tags\n",
    "\n",
    "    for token in tokens:\n",
    "        key, value = token.split(\"-\")\n",
    "        tags[key] = value\n",
    "    for key, value in tags.items():\n",
    "        paths_by_tags[key][value].add(bids_path)"
   ]
  },
  {
   "cell_type": "code",
   "execution_count": null,
   "id": "74e7e024-5d28-456b-9e64-50eef497b387",
   "metadata": {},
   "outputs": [],
   "source": [
    "def get(**filters):\n",
    "    res = None\n",
    "    \n",
    "    for key, value in filters.items():\n",
    "        if key not in paths_by_tags:\n",
    "            # logger.info(f\"Unknown key \\\"{key}\\\"\")        \n",
    "            return None\n",
    "    \n",
    "        values = paths_by_tags[key]\n",
    "        if value is None:\n",
    "            for paths in values.values():\n",
    "                res -= paths\n",
    "            continue\n",
    "                \n",
    "        elif value not in values:\n",
    "            # logger.info(f\"Unknown value \\\"{value}\\\"\")        \n",
    "            return None\n",
    "        \n",
    "        paths = values[value]\n",
    "        if res is not None:\n",
    "            res &= paths\n",
    "        else:\n",
    "            res = paths.copy()\n",
    "    \n",
    "    return res\n",
    "\n",
    "def get_tag_value(path, key):\n",
    "    return tags_by_paths[path].get(key)"
   ]
  },
  {
   "cell_type": "code",
   "execution_count": null,
   "id": "e170d5e9-603d-46b7-981d-17248d5b2921",
   "metadata": {},
   "outputs": [],
   "source": [
    "def _plot_anat_with_contours(image, segs=None, **plot_params):\n",
    "    nsegs = len(segs or [])\n",
    "    plot_params = plot_params or {}\n",
    "    # plot_params' values can be None, however they MUST NOT\n",
    "    # be None for colors and levels from this point on.\n",
    "    colors = plot_params.pop(\"colors\", None) or []\n",
    "    levels = plot_params.pop(\"levels\", None) or []\n",
    "    missing = nsegs - len(colors)\n",
    "    if missing > 0:  # missing may be negative\n",
    "        colors = colors + color_palette(\"husl\", missing)\n",
    "\n",
    "    colors = [[c] if not isinstance(c, list) else c for c in colors]\n",
    "\n",
    "    if not levels:\n",
    "        levels = [[0.5]] * nsegs\n",
    "\n",
    "    # anatomical\n",
    "    display = plot_anat(image, **plot_params)\n",
    "\n",
    "    # remove plot_anat -specific parameters\n",
    "    plot_params.pop(\"display_mode\")\n",
    "    plot_params.pop(\"cut_coords\")\n",
    "\n",
    "    plot_params[\"linewidths\"] = 0.5\n",
    "    for i in reversed(range(nsegs)):\n",
    "        plot_params[\"colors\"] = colors[i]\n",
    "        display.add_contours(segs[i], levels=levels[i], **plot_params)\n",
    "        \n",
    "    return display"
   ]
  },
  {
   "cell_type": "code",
   "execution_count": null,
   "id": "222b69f0-8f85-4712-9dcf-b90936b7fa10",
   "metadata": {},
   "outputs": [],
   "source": [
    "target_width = 2048\n",
    "\n",
    "def to_rgb(display):\n",
    "    figure = display.frame_axes.figure\n",
    "    canvas = figure.canvas\n",
    "    \n",
    "    # scale to target_width\n",
    "    width, height = canvas.get_width_height()\n",
    "    figure.set_dpi(target_width / width * figure.get_dpi())\n",
    "    \n",
    "    canvas.draw()\n",
    "    width, height = canvas.get_width_height()\n",
    "    \n",
    "    image = np.frombuffer(\n",
    "        canvas.tostring_rgb(), dtype=np.uint8\n",
    "    ).reshape((height, width, -1))[..., :3]\n",
    "    \n",
    "    image = image[:, :target_width, :]  # crop rounding errors\n",
    "    \n",
    "    return image"
   ]
  },
  {
   "cell_type": "code",
   "execution_count": null,
   "id": "f2844cbe-c184-4796-85ba-cbf257176c5d",
   "metadata": {},
   "outputs": [],
   "source": [
    "@dataclass\n",
    "class SkullStrip:\n",
    "    t1w: nib.Nifti1Image\n",
    "    mask: nib.Nifti1Image\n",
    "    \n",
    "    def to_image(self):\n",
    "        plot_params = dict(colors=None)\n",
    "\n",
    "        image_nii = self.t1w\n",
    "        seg_nii = self.mask\n",
    "\n",
    "        canonical_r = rotation2canonical(image_nii)\n",
    "        image_nii = rotate_affine(image_nii, rot=canonical_r)\n",
    "        seg_nii = rotate_affine(seg_nii, rot=canonical_r)\n",
    "\n",
    "        data = image_nii.get_fdata()\n",
    "        plot_params = robust_set_limits(data, plot_params)\n",
    "\n",
    "        bbox_nii = seg_nii\n",
    "\n",
    "        cuts = cuts_from_bbox(bbox_nii, cuts=7)\n",
    "\n",
    "        images = list()\n",
    "        for d in plot_params.pop(\"dimensions\", (\"z\", \"x\", \"y\")):\n",
    "            plot_params[\"display_mode\"] = d\n",
    "            plot_params[\"cut_coords\"] = cuts[d]\n",
    "            display = _plot_anat_with_contours(\n",
    "                image_nii, segs=[seg_nii], **plot_params\n",
    "            )\n",
    "            images.append(to_rgb(display))\n",
    "            display.close()\n",
    "\n",
    "        image = np.vstack(images)\n",
    "        return image"
   ]
  },
  {
   "cell_type": "code",
   "execution_count": null,
   "id": "47488c1e-0adb-493f-affa-280c974c03f6",
   "metadata": {},
   "outputs": [],
   "source": [
    "skull_strips = list()\n",
    "\n",
    "for exclude_entry in exclude_entries:\n",
    "    rating = exclude_entry[\"rating\"]\n",
    "    type = exclude_entry[\"type\"]\n",
    "    sub = exclude_entry[\"sub\"]\n",
    "    \n",
    "    if rating != \"good\":\n",
    "        continue\n",
    "        \n",
    "    if type != \"skull_strip_report\":\n",
    "        continue\n",
    "        \n",
    "    t1w_files = get(sub=sub, desc=\"preproc\", res=None, suffix=\"T1w\", extension=\".nii.gz\")\n",
    "    if t1w_files is None:\n",
    "        continue\n",
    "    (t1w_file,) = t1w_files\n",
    "    \n",
    "    mask_files = get(sub=sub, desc=\"brain\", res=None, suffix=\"mask\", extension=\".nii.gz\")\n",
    "    if mask_files is None:\n",
    "        continue\n",
    "    (mask_file,) = mask_files   \n",
    "        \n",
    "    skull_strips.append(\n",
    "        SkullStrip(\n",
    "            t1w=nib.load(t1w_file),\n",
    "            mask=nib.load(mask_file),\n",
    "        )\n",
    "    )"
   ]
  },
  {
   "cell_type": "code",
   "execution_count": null,
   "id": "8c5b6ad8-ec67-46ef-87e0-f885376edb2e",
   "metadata": {},
   "outputs": [],
   "source": [
    "skull_strip = skull_strips[0]"
   ]
  },
  {
   "cell_type": "code",
   "execution_count": null,
   "id": "f185612d-28ef-46a3-94e2-5a7d13b964e3",
   "metadata": {},
   "outputs": [],
   "source": [
    "image = skull_strip.to_image()\n",
    "figure = plt.figure(figsize=(20,10))\n",
    "plt.imshow(image)"
   ]
  },
  {
   "cell_type": "code",
   "execution_count": null,
   "id": "f7463889-07b6-44c1-b409-771e192c947d",
   "metadata": {},
   "outputs": [],
   "source": [
    "mask = skull_strip.mask\n",
    "mask"
   ]
  },
  {
   "cell_type": "code",
   "execution_count": null,
   "id": "56fbbdeb-c04d-4202-823f-921359da3236",
   "metadata": {},
   "outputs": [],
   "source": [
    "plot_anat(mask)"
   ]
  },
  {
   "cell_type": "code",
   "execution_count": null,
   "id": "f9debab1-f17f-44d9-be10-3bcf391aa8ac",
   "metadata": {},
   "outputs": [],
   "source": [
    "mask_data = np.asanyarray(mask.dataobj).astype(bool)\n",
    "mask_data.shape"
   ]
  },
  {
   "cell_type": "code",
   "execution_count": null,
   "id": "5bfe6d33-acc6-4c90-8455-04067a59d722",
   "metadata": {},
   "outputs": [],
   "source": [
    "bad_mask_data = ndimage.rotate(mask_data, 45, reshape=False, output=float) > 0.5\n",
    "bad_mask_data.shape"
   ]
  },
  {
   "cell_type": "code",
   "execution_count": null,
   "id": "914fb582-3cde-4ade-9b78-5418df3ca609",
   "metadata": {},
   "outputs": [],
   "source": [
    "bad_mask = new_img_like(mask, bad_mask_data, copy_header=True)"
   ]
  },
  {
   "cell_type": "code",
   "execution_count": null,
   "id": "c1dbeb38-bbca-41a8-8a16-a3ebaad15162",
   "metadata": {},
   "outputs": [],
   "source": [
    "plot_anat(bad_mask)"
   ]
  },
  {
   "cell_type": "code",
   "execution_count": null,
   "id": "47ff23e1-01dd-454e-b51d-a6f04037a713",
   "metadata": {},
   "outputs": [],
   "source": [
    "bad_skull_strip = SkullStrip(\n",
    "    t1w=skull_strip.t1w,\n",
    "    mask=bad_mask,\n",
    ")"
   ]
  },
  {
   "cell_type": "code",
   "execution_count": null,
   "id": "f1023266-ad22-4711-918d-2886597258ab",
   "metadata": {},
   "outputs": [],
   "source": [
    "image = bad_skull_strip.to_image()\n",
    "figure = plt.figure(figsize=(20,10))\n",
    "plt.imshow(image)"
   ]
  }
 ],
 "metadata": {
  "kernelspec": {
   "display_name": "Python 3 (ipykernel)",
   "language": "python",
   "name": "python3"
  },
  "language_info": {
   "codemirror_mode": {
    "name": "ipython",
    "version": 3
   },
   "file_extension": ".py",
   "mimetype": "text/x-python",
   "name": "python",
   "nbconvert_exporter": "python",
   "pygments_lexer": "ipython3",
   "version": "3.10.4"
  }
 },
 "nbformat": 4,
 "nbformat_minor": 5
}
