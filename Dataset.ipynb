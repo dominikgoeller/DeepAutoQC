{
 "cells": [
  {
   "cell_type": "code",
   "execution_count": null,
   "id": "1ba1f092",
   "metadata": {},
   "outputs": [],
   "source": [
    "import os\n",
    "import torch\n",
    "import pandas as pd\n",
    "import import_ipynb\n",
    "from skimage import io, transform\n",
    "import numpy as np\n",
    "import matplotlib.pyplot as plt\n",
    "from torch.utils.data import Dataset, DataLoader\n",
    "from torchvision import transforms, utils\n",
    "from typing import List\n",
    "import multiprocessing\n",
    "\n",
    "from halfpipe.file_index.bids import BIDSIndex\n",
    "\n",
    "# Ignore warnings\n",
    "import warnings\n",
    "warnings.filterwarnings(\"ignore\")"
   ]
  },
  {
   "cell_type": "code",
   "execution_count": null,
   "id": "7ec51a68",
   "metadata": {},
   "outputs": [],
   "source": [
    "class SkullstripDataset(Dataset):\n",
    "    \"\"\"Skullstrip reports Dataset\"\"\"\n",
    "    \n",
    "    def __init__(self, usable_dir, labels, transform=None):\n",
    "        \"\"\"\n",
    "        Args:\n",
    "            root_dir: directory containing t1w and mask files\n",
    "            labels(iterable): our labels for the images usable/unusable only return label or patient name as well?\n",
    "            transform: optional transformations on images\n",
    "        \"\"\"\n",
    "        self.usable_dir = usable_dir\n",
    "        self.labels = labels\n",
    "        self.transform = transform\n",
    "        \n",
    "        bids_idx = BIDSIndex()\n",
    "        bids_idx.put(usable_dir)\n",
    "        \n",
    "        subjects = bids_idx.get_tag_values(\"sub\")\n",
    "        for subject in subjects:\n",
    "            t1w = bids_idx.get(sub=subject, suffix=\"T1w\")\n",
    "            if t1w is None:\n",
    "                continue\n",
    "            mask = bids_idx.get(sub=subject, suffix=\"mask\")\n",
    "            if mask is None:\n",
    "                continue\n",
    "            (cur_t1w,) = t1w\n",
    "            (cur_mask,) = mask\n",
    "            \n",
    "    \n",
    "    def __len__(self):\n",
    "        return len(self.root_dir) # or len of self.skullstrips\n",
    "    \n",
    "    def __getitem__(self,idx):\n",
    "        cur_skullstrip = skullstrips[idx]\n",
    "        \n",
    "        if self.transform is not None:\n",
    "            cur_skullstrip = self.transform\n",
    "        \n",
    "        return\n",
    "\n",
    "def build_DataLoaders(train_dataset, val_dataset):\n",
    "    \"\"\"Build DataLoaders from the datasets.\"\"\"\n",
    "    train_loader = DataLoader(train_dataset, batch_size=5, shuffle=True, num_workers=multiprocessing.cpu_count(), pin_memory=torch.cuda.is_available())\n",
    "    val_loader = DataLoader(val_dataset, batch_size=5, shuffle=True, num_workers=multiprocessing.cpu_count(), pin_memory=torch.cuda.is_available())\n",
    "    return train_loader, val_loader"
   ]
  }
 ],
 "metadata": {
  "kernelspec": {
   "display_name": "Python 3 (ipykernel)",
   "language": "python",
   "name": "python3"
  },
  "language_info": {
   "codemirror_mode": {
    "name": "ipython",
    "version": 3
   },
   "file_extension": ".py",
   "mimetype": "text/x-python",
   "name": "python",
   "nbconvert_exporter": "python",
   "pygments_lexer": "ipython3",
   "version": "3.10.1"
  }
 },
 "nbformat": 4,
 "nbformat_minor": 5
}
