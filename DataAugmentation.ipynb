{
 "cells": [
  {
   "cell_type": "markdown",
   "id": "69b723a2",
   "metadata": {},
   "source": [
    "# Data Augmentation"
   ]
  },
  {
   "cell_type": "markdown",
   "id": "93e78e89",
   "metadata": {},
   "source": [
    "### Necessary imports"
   ]
  },
  {
   "cell_type": "code",
   "execution_count": 1,
   "id": "fe2131cd",
   "metadata": {},
   "outputs": [],
   "source": [
    "from collections import defaultdict\n",
    "from dataclasses import dataclass\n",
    "import io\n",
    "import json\n",
    "from pathlib import Path\n",
    "\n",
    "from matplotlib import pyplot as plt\n",
    "import random\n",
    "import numpy as np\n",
    "from scipy import ndimage\n",
    "from seaborn import color_palette\n",
    "from skimage.util import random_noise\n",
    "import cv2\n",
    "\n",
    "import nibabel as nib\n",
    "from nilearn.image import new_img_like, resample_img\n",
    "from nilearn.plotting import plot_anat, view_img\n",
    "from niworkflows.viz.utils import cuts_from_bbox, robust_set_limits\n",
    "from niworkflows.utils.images import rotation2canonical, rotate_affine\n",
    "\n",
    "from halfpipe.utils.path import split_ext"
   ]
  },
  {
   "cell_type": "markdown",
   "id": "719366d8",
   "metadata": {},
   "source": [
    "## Skull Strip Class"
   ]
  },
  {
   "cell_type": "code",
   "execution_count": 2,
   "id": "a9c0250a",
   "metadata": {},
   "outputs": [],
   "source": [
    "def _plot_anat_with_contours(image, segs=None, **plot_params):\n",
    "    nsegs = len(segs or [])\n",
    "    plot_params = plot_params or {}\n",
    "    # plot_params' values can be None, however they MUST NOT\n",
    "    # be None for colors and levels from this point on.\n",
    "    colors = plot_params.pop(\"colors\", None) or []\n",
    "    levels = plot_params.pop(\"levels\", None) or []\n",
    "    missing = nsegs - len(colors)\n",
    "    if missing > 0:  # missing may be negative\n",
    "        colors = colors + color_palette(\"husl\", missing)\n",
    "\n",
    "    colors = [[c] if not isinstance(c, list) else c for c in colors]\n",
    "\n",
    "    if not levels:\n",
    "        levels = [[0.5]] * nsegs\n",
    "\n",
    "    # anatomical\n",
    "    display = plot_anat(image, **plot_params)\n",
    "\n",
    "    # remove plot_anat -specific parameters\n",
    "    plot_params.pop(\"display_mode\")\n",
    "    plot_params.pop(\"cut_coords\")\n",
    "\n",
    "    plot_params[\"linewidths\"] = 0.5\n",
    "    for i in reversed(range(nsegs)):\n",
    "        plot_params[\"colors\"] = colors[i]\n",
    "        display.add_contours(segs[i], levels=levels[i], **plot_params)\n",
    "        \n",
    "    return display"
   ]
  },
  {
   "cell_type": "code",
   "execution_count": 3,
   "id": "1d012f70",
   "metadata": {},
   "outputs": [],
   "source": [
    "target_width = 2048\n",
    "\n",
    "def to_rgb(display):\n",
    "    figure = display.frame_axes.figure\n",
    "    canvas = figure.canvas\n",
    "    \n",
    "    # scale to target_width\n",
    "    width, height = canvas.get_width_height()\n",
    "    figure.set_dpi(target_width / width * figure.get_dpi())\n",
    "    \n",
    "    canvas.draw()\n",
    "    width, height = canvas.get_width_height()\n",
    "    \n",
    "    image = np.frombuffer(\n",
    "        canvas.tostring_rgb(), dtype=np.uint8\n",
    "    ).reshape((height, width, -1))[..., :3]\n",
    "    \n",
    "    image = image[:, :target_width, :]  # crop rounding errors\n",
    "    \n",
    "    return image"
   ]
  },
  {
   "cell_type": "code",
   "execution_count": 4,
   "id": "bde07580",
   "metadata": {},
   "outputs": [],
   "source": [
    "@dataclass\n",
    "class SkullStrip:\n",
    "    t1w: nib.Nifti1Image\n",
    "    mask: nib.Nifti1Image\n",
    "    \n",
    "    def to_image(self):\n",
    "        plot_params = dict(colors=None)\n",
    "\n",
    "        image_nii: nib.Nifti1Image = self.t1w\n",
    "        seg_nii = self.mask\n",
    "\n",
    "        canonical_r = rotation2canonical(image_nii)\n",
    "        image_nii = rotate_affine(image_nii, rot=canonical_r)\n",
    "        seg_nii = rotate_affine(seg_nii, rot=canonical_r)\n",
    "\n",
    "        data = image_nii.get_fdata()\n",
    "        plot_params = robust_set_limits(data, plot_params)\n",
    "\n",
    "        bbox_nii = seg_nii\n",
    "\n",
    "        cuts = cuts_from_bbox(bbox_nii, cuts=7)\n",
    "\n",
    "        images = list()\n",
    "        for d in plot_params.pop(\"dimensions\", (\"z\", \"x\", \"y\")):\n",
    "            plot_params[\"display_mode\"] = d\n",
    "            plot_params[\"cut_coords\"] = cuts[d]\n",
    "            display = _plot_anat_with_contours(\n",
    "                image_nii, segs=[seg_nii], **plot_params\n",
    "            )\n",
    "            images.append(to_rgb(display))\n",
    "            display.close()\n",
    "\n",
    "        image = np.vstack(images)\n",
    "        return image"
   ]
  },
  {
   "cell_type": "markdown",
   "id": "ab2ffe75",
   "metadata": {},
   "source": [
    "### Nifti2Numpy"
   ]
  },
  {
   "cell_type": "code",
   "execution_count": 5,
   "id": "7e30a65a",
   "metadata": {},
   "outputs": [],
   "source": [
    "class NiftiToNumpy():\n",
    "    def __call__(self,file):\n",
    "        a = nib.load(file)\n",
    "        a = nib.as_closest_canonical(a) # transform into RAS as proposed in nibabel documentation\n",
    "        a = np.array(a.dataobj)\n",
    "        a = np.float32(a)\n",
    "        return a"
   ]
  },
  {
   "cell_type": "markdown",
   "id": "e86ca3fc",
   "metadata": {},
   "source": [
    "## Augmentation Strategies functions"
   ]
  },
  {
   "cell_type": "markdown",
   "id": "602b5120",
   "metadata": {},
   "source": [
    "### Random Rotate Mask"
   ]
  },
  {
   "cell_type": "code",
   "execution_count": 6,
   "id": "1f18ad0b",
   "metadata": {},
   "outputs": [],
   "source": [
    "def randomRotateMask(skullstrip: SkullStrip, max_angle: int):\n",
    "    angle = random.uniform(-max_angle, max_angle)\n",
    "    \n",
    "    mask = skullstrip.mask\n",
    "    mask_data = np.asanyarray(mask.dataobj).astype(bool)\n",
    "    \n",
    "    bad_mask_data = ndimage.rotate(mask_data, angle, reshape=False, axes=(0,1), output=float) > 0.5\n",
    "    if not mask_data.shape == bad_mask_data.shape:\n",
    "        return None\n",
    "    bad_mask = new_img_like(mask, bad_mask_data, copy_header=True)\n",
    "    skullstrip.mask = bad_mask\n",
    "    \n",
    "    new_skullstrip = skullstrip # save as variable to return as file if necessary\n",
    "    # Show images\n",
    "    plot_anat(bad_mask)\n",
    "    image = bad_skull_strip.to_image()\n",
    "    figure = plt.figure(figsize=(20,10))\n",
    "    plt.imshow(image)\n",
    "    print(angle)"
   ]
  },
  {
   "cell_type": "markdown",
   "id": "a4296a25",
   "metadata": {},
   "source": [
    "### Random Flipping"
   ]
  },
  {
   "cell_type": "code",
   "execution_count": 7,
   "id": "cf7b700f",
   "metadata": {},
   "outputs": [],
   "source": [
    "def randomFlippingSkull(t1w_file: Path, mask_file: Path):\n",
    "    testskull = SkullStrip(t1w=nib.load(t1w_file), mask=nib.load(mask_file))\n",
    "    a = NiftiToNumpy()\n",
    "    b = a(t1w_file)\n",
    "    #t1w = skullstrip.t1w\n",
    "    #t1w_data = nib.as_closest_canonical(t1w)\n",
    "    #t1w_data = np.array(t1w_data.dataobj).astype(np.float32)\n",
    "    plot_anat(nib.load(t1w_file))\n",
    "    flipped_data = np.fliplr(b)\n",
    "    \n",
    "    nifti_mask = nib.load(mask_file)\n",
    "    ref_affine = nifti_mask.affine\n",
    "    new_t1w = nib.Nifti1Image(flipped_data, affine=ref_affine)\n",
    "    testskull.t1w = new_t1w\n",
    "    #new_skullstrip = SkullStrip(t1w=new_t1w, mask=nifti_mask)\n",
    "    #show_img = new_skullstrip.to_image()\n",
    "    new_image = testskull.to_image()\n",
    "    figure = plt.figure(figsize=(20,10))\n",
    "    plt.imshow(new_image)"
   ]
  },
  {
   "cell_type": "markdown",
   "id": "130ef3fc",
   "metadata": {},
   "source": [
    "### Increase Contrast"
   ]
  },
  {
   "cell_type": "code",
   "execution_count": 8,
   "id": "3e9480af",
   "metadata": {},
   "outputs": [],
   "source": [
    "def increaseContrast(skullstrip: SkullStrip):\n",
    "    t1w = skullstrip.t1w\n",
    "    plot_anat(t1w)\n",
    "    t1w_data = np.asanyarray(t1w.dataobj)\n",
    "    \n",
    "    minval = np.percentile(t1w_data, 2)\n",
    "    maxval = np.percentile(t1w_data, 98)\n",
    "    pixvals = np.clip(t1w_data, minval, maxval)\n",
    "    pixvals = ((pixvals - minval) / (maxval - minval)) * 255\n",
    "    new_t1w = new_img_like(t1w, pixvals, copy_header=True)\n",
    "    skullstrip.t1w = new_t1w\n",
    "    new_skullstrip = skullstrip # save as variable to return as file if necessary\n",
    "    plot_anat(new_t1w)\n",
    "    image = new_skull_strip.to_image()\n",
    "    figure = plt.figure(figsize=(20,10))\n",
    "    plt.imshow(image)"
   ]
  },
  {
   "cell_type": "markdown",
   "id": "ec065103",
   "metadata": {},
   "source": [
    "### Random Noise"
   ]
  },
  {
   "cell_type": "code",
   "execution_count": 9,
   "id": "5a792249",
   "metadata": {},
   "outputs": [],
   "source": [
    "def randomNoise(skullstrip: SkullStrip):\n",
    "    t1w = skullstrip.t1w\n",
    "    plot_anat(t1w)\n",
    "    t1w_data = np.asanyarray(t1w.dataobj).astype(np.uint8) # because gaussian noise adds a np.uint8 mask to the img\n",
    "    \n",
    "    noise_t1w_data = random_noise(t1w_data, mode='gaussian', var=0.01**2)\n",
    "    noise_img = (255*noise_t1w_data).astype(np.uint8)\n",
    "\n",
    "    noise_t1w = new_img_like(t1w, noise_img, copy_header=True)\n",
    "    \n",
    "    # skullstrip.t1w = noise_t1w\n",
    "    # new_skullstrip = skullstrip # save as variable to return as file if necessary\n",
    "    new_skullstrip = SkullStrip(t1w=noise_t1w, mask=skullstrip.mask)\n",
    "    plot_anat(noise_t1w)\n",
    "    image = new_skullstrip.to_image()\n",
    "    figure = plt.figure(figsize=(20,10))\n",
    "    plt.imshow(image)"
   ]
  },
  {
   "cell_type": "markdown",
   "id": "077a63b6",
   "metadata": {},
   "source": [
    "### Remove text and axis from nifti Image (not working yet!)"
   ]
  },
  {
   "cell_type": "code",
   "execution_count": 10,
   "id": "0a70da59",
   "metadata": {},
   "outputs": [],
   "source": [
    "def removeUnnecessaryText(skullstrip: SkullStrip):\n",
    "    t1w = skullstrip.t1w\n",
    "    plot_anat(t1w)\n",
    "    t1w_data = np.asanyarray(t1w.dataobj).astype(np.uint8)\n",
    "    print(t1w_data.shape)\n",
    "    \n",
    "    # coeffs = np.array([0.114, 0.587, 0.229])\n",
    "    # image_gray = (t1w_data.astype(np.float) * coeffs).sum(axis=-1)\n",
    "    # image_gray = image_gray.astype(t1w_data.dtype)\n",
    "    #t1w_data = t1w_data[:,:,0]\n",
    "    #grayscale_img = cv2.cvtColor(t1w_data, cv2.COLOR_BGR2GRAY)\n",
    "    mask = cv2.threshold(t1w_data, 210, 255, cv2.THRESH_BINARY)[1][:,:,0]\n",
    "    #mask2 = cv2.threshold(t1w_data, 210, 255, cv2.THRESH_BINARY)\n",
    "    print(mask.dtype)\n",
    "    #print(mask2.shape)\n",
    "    #mask = np.uint8(mask)\n",
    "    dst = cv2.inpaint(t1w_data[:,:,0], mask, 3, cv2.INPAINT_NS)\n",
    "    print(dst.shape)\n",
    "    np.expand_dims(dst, axis=2)\n",
    "    print(dst.shape)\n",
    "    #dst.shape = t1w_data.shape\n",
    "    dst.shape = np.dstack((dst, t1w_data)).shape\n",
    "    print(dst)\n",
    "    new_t1w = new_img_like(t1w, dst, copy_header=True)\n",
    "    skullstrip.t1w = new_t1w\n",
    "    new_skullstrip = skullstrip # save as variable to return as file if necessary\n",
    "    plot_anat(new_t1w)"
   ]
  },
  {
   "cell_type": "markdown",
   "id": "7a0c5953",
   "metadata": {},
   "source": [
    "## Load usable files"
   ]
  },
  {
   "cell_type": "markdown",
   "id": "07a403e9",
   "metadata": {},
   "source": [
    "### Load one test skullstrip"
   ]
  },
  {
   "cell_type": "code",
   "execution_count": 11,
   "id": "32762ec6",
   "metadata": {},
   "outputs": [],
   "source": [
    "t1wpath = \"/Users/dominik/Downloads/usable/ds-integrament_site-berlin_sub-PIABR9GGF_desc-preproc_T1w.nii.gz\"\n",
    "maskpath = \"/Users/dominik/Downloads/usable/ds-integrament_site-berlin_sub-PIABR9GGF_desc-brain_mask.nii.gz\"\n",
    "test_skullstrip = SkullStrip(t1w=nib.load(t1wpath),\n",
    "                              mask=nib.load(maskpath),)"
   ]
  },
  {
   "cell_type": "markdown",
   "id": "1f10b91b",
   "metadata": {},
   "source": [
    "### Load all usable files from folder"
   ]
  },
  {
   "cell_type": "code",
   "execution_count": 12,
   "id": "d07d61fb",
   "metadata": {},
   "outputs": [],
   "source": [
    "base_directory = Path(\"/Users/dominik/Downloads/usable\")"
   ]
  },
  {
   "cell_type": "code",
   "execution_count": 13,
   "id": "efcac38e",
   "metadata": {},
   "outputs": [
    {
     "ename": "ValueError",
     "evalue": "all the input array dimensions for the concatenation axis must match exactly, but along dimension 1, the array at index 0 has size 2048 and the array at index 1 has size 2047",
     "output_type": "error",
     "traceback": [
      "\u001b[0;31m---------------------------------------------------------------------------\u001b[0m",
      "\u001b[0;31mValueError\u001b[0m                                Traceback (most recent call last)",
      "Input \u001b[0;32mIn [13]\u001b[0m, in \u001b[0;36m<cell line: 1>\u001b[0;34m()\u001b[0m\n\u001b[0;32m----> 1\u001b[0m \u001b[43mrandomFlippingSkull\u001b[49m\u001b[43m(\u001b[49m\u001b[43mt1w_file\u001b[49m\u001b[38;5;241;43m=\u001b[39;49m\u001b[43mt1wpath\u001b[49m\u001b[43m,\u001b[49m\u001b[43m \u001b[49m\u001b[43mmask_file\u001b[49m\u001b[38;5;241;43m=\u001b[39;49m\u001b[43mmaskpath\u001b[49m\u001b[43m)\u001b[49m\n",
      "Input \u001b[0;32mIn [7]\u001b[0m, in \u001b[0;36mrandomFlippingSkull\u001b[0;34m(t1w_file, mask_file)\u001b[0m\n\u001b[1;32m     14\u001b[0m testskull\u001b[38;5;241m.\u001b[39mt1w \u001b[38;5;241m=\u001b[39m new_t1w\n\u001b[1;32m     15\u001b[0m \u001b[38;5;66;03m#new_skullstrip = SkullStrip(t1w=new_t1w, mask=nifti_mask)\u001b[39;00m\n\u001b[1;32m     16\u001b[0m \u001b[38;5;66;03m#show_img = new_skullstrip.to_image()\u001b[39;00m\n\u001b[0;32m---> 17\u001b[0m new_image \u001b[38;5;241m=\u001b[39m \u001b[43mtestskull\u001b[49m\u001b[38;5;241;43m.\u001b[39;49m\u001b[43mto_image\u001b[49m\u001b[43m(\u001b[49m\u001b[43m)\u001b[49m\n\u001b[1;32m     18\u001b[0m figure \u001b[38;5;241m=\u001b[39m plt\u001b[38;5;241m.\u001b[39mfigure(figsize\u001b[38;5;241m=\u001b[39m(\u001b[38;5;241m20\u001b[39m,\u001b[38;5;241m10\u001b[39m))\n\u001b[1;32m     19\u001b[0m plt\u001b[38;5;241m.\u001b[39mimshow(new_image)\n",
      "Input \u001b[0;32mIn [4]\u001b[0m, in \u001b[0;36mSkullStrip.to_image\u001b[0;34m(self)\u001b[0m\n\u001b[1;32m     30\u001b[0m     images\u001b[38;5;241m.\u001b[39mappend(to_rgb(display))\n\u001b[1;32m     31\u001b[0m     display\u001b[38;5;241m.\u001b[39mclose()\n\u001b[0;32m---> 33\u001b[0m image \u001b[38;5;241m=\u001b[39m \u001b[43mnp\u001b[49m\u001b[38;5;241;43m.\u001b[39;49m\u001b[43mvstack\u001b[49m\u001b[43m(\u001b[49m\u001b[43mimages\u001b[49m\u001b[43m)\u001b[49m\n\u001b[1;32m     34\u001b[0m \u001b[38;5;28;01mreturn\u001b[39;00m image\n",
      "File \u001b[0;32m<__array_function__ internals>:180\u001b[0m, in \u001b[0;36mvstack\u001b[0;34m(*args, **kwargs)\u001b[0m\n",
      "File \u001b[0;32m/Library/Frameworks/Python.framework/Versions/3.10/lib/python3.10/site-packages/numpy/core/shape_base.py:282\u001b[0m, in \u001b[0;36mvstack\u001b[0;34m(tup)\u001b[0m\n\u001b[1;32m    280\u001b[0m \u001b[38;5;28;01mif\u001b[39;00m \u001b[38;5;129;01mnot\u001b[39;00m \u001b[38;5;28misinstance\u001b[39m(arrs, \u001b[38;5;28mlist\u001b[39m):\n\u001b[1;32m    281\u001b[0m     arrs \u001b[38;5;241m=\u001b[39m [arrs]\n\u001b[0;32m--> 282\u001b[0m \u001b[38;5;28;01mreturn\u001b[39;00m \u001b[43m_nx\u001b[49m\u001b[38;5;241;43m.\u001b[39;49m\u001b[43mconcatenate\u001b[49m\u001b[43m(\u001b[49m\u001b[43marrs\u001b[49m\u001b[43m,\u001b[49m\u001b[43m \u001b[49m\u001b[38;5;241;43m0\u001b[39;49m\u001b[43m)\u001b[49m\n",
      "File \u001b[0;32m<__array_function__ internals>:180\u001b[0m, in \u001b[0;36mconcatenate\u001b[0;34m(*args, **kwargs)\u001b[0m\n",
      "\u001b[0;31mValueError\u001b[0m: all the input array dimensions for the concatenation axis must match exactly, but along dimension 1, the array at index 0 has size 2048 and the array at index 1 has size 2047"
     ]
    }
   ],
   "source": [
    "randomFlippingSkull(t1w_file=t1wpath, mask_file=maskpath)"
   ]
  },
  {
   "cell_type": "code",
   "execution_count": 92,
   "id": "01e7eb93",
   "metadata": {},
   "outputs": [
    {
     "ename": "ValueError",
     "evalue": "all the input array dimensions for the concatenation axis must match exactly, but along dimension 1, the array at index 0 has size 2048 and the array at index 1 has size 2047",
     "output_type": "error",
     "traceback": [
      "\u001b[0;31m---------------------------------------------------------------------------\u001b[0m",
      "\u001b[0;31mValueError\u001b[0m                                Traceback (most recent call last)",
      "Input \u001b[0;32mIn [92]\u001b[0m, in \u001b[0;36m<cell line: 1>\u001b[0;34m()\u001b[0m\n\u001b[0;32m----> 1\u001b[0m \u001b[43mrandomNoise\u001b[49m\u001b[43m(\u001b[49m\u001b[43mskullstrip\u001b[49m\u001b[38;5;241;43m=\u001b[39;49m\u001b[43mtest_skullstrip\u001b[49m\u001b[43m)\u001b[49m\n",
      "Input \u001b[0;32mIn [91]\u001b[0m, in \u001b[0;36mrandomNoise\u001b[0;34m(skullstrip)\u001b[0m\n\u001b[1;32m     13\u001b[0m new_skullstrip \u001b[38;5;241m=\u001b[39m SkullStrip(t1w\u001b[38;5;241m=\u001b[39mnoise_t1w, mask\u001b[38;5;241m=\u001b[39mskullstrip\u001b[38;5;241m.\u001b[39mmask)\n\u001b[1;32m     14\u001b[0m plot_anat(noise_t1w)\n\u001b[0;32m---> 15\u001b[0m image \u001b[38;5;241m=\u001b[39m \u001b[43mnew_skullstrip\u001b[49m\u001b[38;5;241;43m.\u001b[39;49m\u001b[43mto_image\u001b[49m\u001b[43m(\u001b[49m\u001b[43m)\u001b[49m\n\u001b[1;32m     16\u001b[0m figure \u001b[38;5;241m=\u001b[39m plt\u001b[38;5;241m.\u001b[39mfigure(figsize\u001b[38;5;241m=\u001b[39m(\u001b[38;5;241m20\u001b[39m,\u001b[38;5;241m10\u001b[39m))\n\u001b[1;32m     17\u001b[0m plt\u001b[38;5;241m.\u001b[39mimshow(image)\n",
      "Input \u001b[0;32mIn [66]\u001b[0m, in \u001b[0;36mSkullStrip.to_image\u001b[0;34m(self)\u001b[0m\n\u001b[1;32m     30\u001b[0m     images\u001b[38;5;241m.\u001b[39mappend(to_rgb(display))\n\u001b[1;32m     31\u001b[0m     display\u001b[38;5;241m.\u001b[39mclose()\n\u001b[0;32m---> 33\u001b[0m image \u001b[38;5;241m=\u001b[39m \u001b[43mnp\u001b[49m\u001b[38;5;241;43m.\u001b[39;49m\u001b[43mvstack\u001b[49m\u001b[43m(\u001b[49m\u001b[43mimages\u001b[49m\u001b[43m)\u001b[49m\n\u001b[1;32m     34\u001b[0m \u001b[38;5;28;01mreturn\u001b[39;00m image\n",
      "File \u001b[0;32m<__array_function__ internals>:180\u001b[0m, in \u001b[0;36mvstack\u001b[0;34m(*args, **kwargs)\u001b[0m\n",
      "File \u001b[0;32m/Library/Frameworks/Python.framework/Versions/3.10/lib/python3.10/site-packages/numpy/core/shape_base.py:282\u001b[0m, in \u001b[0;36mvstack\u001b[0;34m(tup)\u001b[0m\n\u001b[1;32m    280\u001b[0m \u001b[38;5;28;01mif\u001b[39;00m \u001b[38;5;129;01mnot\u001b[39;00m \u001b[38;5;28misinstance\u001b[39m(arrs, \u001b[38;5;28mlist\u001b[39m):\n\u001b[1;32m    281\u001b[0m     arrs \u001b[38;5;241m=\u001b[39m [arrs]\n\u001b[0;32m--> 282\u001b[0m \u001b[38;5;28;01mreturn\u001b[39;00m \u001b[43m_nx\u001b[49m\u001b[38;5;241;43m.\u001b[39;49m\u001b[43mconcatenate\u001b[49m\u001b[43m(\u001b[49m\u001b[43marrs\u001b[49m\u001b[43m,\u001b[49m\u001b[43m \u001b[49m\u001b[38;5;241;43m0\u001b[39;49m\u001b[43m)\u001b[49m\n",
      "File \u001b[0;32m<__array_function__ internals>:180\u001b[0m, in \u001b[0;36mconcatenate\u001b[0;34m(*args, **kwargs)\u001b[0m\n",
      "\u001b[0;31mValueError\u001b[0m: all the input array dimensions for the concatenation axis must match exactly, but along dimension 1, the array at index 0 has size 2048 and the array at index 1 has size 2047"
     ]
    }
   ],
   "source": [
    "randomNoise(skullstrip=test_skullstrip)"
   ]
  },
  {
   "cell_type": "code",
   "execution_count": null,
   "id": "d23ee5ae",
   "metadata": {},
   "outputs": [],
   "source": []
  },
  {
   "cell_type": "code",
   "execution_count": null,
   "id": "c0f9675c",
   "metadata": {},
   "outputs": [],
   "source": []
  },
  {
   "cell_type": "code",
   "execution_count": null,
   "id": "ea852fe8",
   "metadata": {},
   "outputs": [],
   "source": []
  }
 ],
 "metadata": {
  "kernelspec": {
   "display_name": "Python 3 (ipykernel)",
   "language": "python",
   "name": "python3"
  },
  "language_info": {
   "codemirror_mode": {
    "name": "ipython",
    "version": 3
   },
   "file_extension": ".py",
   "mimetype": "text/x-python",
   "name": "python",
   "nbconvert_exporter": "python",
   "pygments_lexer": "ipython3",
   "version": "3.10.1"
  }
 },
 "nbformat": 4,
 "nbformat_minor": 5
}
