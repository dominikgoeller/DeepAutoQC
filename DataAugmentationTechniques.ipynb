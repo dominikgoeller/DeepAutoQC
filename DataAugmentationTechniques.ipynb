{
 "cells": [
  {
   "cell_type": "code",
   "execution_count": 53,
   "id": "b65a3b1e-218a-41e6-ad61-0f2bca1a66be",
   "metadata": {},
   "outputs": [],
   "source": [
    "from collections import defaultdict\n",
    "from dataclasses import dataclass\n",
    "import io\n",
    "import json\n",
    "from pathlib import Path\n",
    "import os\n",
    "\n",
    "from typing import Literal\n",
    "from matplotlib import pyplot as plt\n",
    "import random\n",
    "import numpy as np\n",
    "from scipy import ndimage\n",
    "from seaborn import color_palette\n",
    "from skimage.util import random_noise\n",
    "from skimage.transform import resize\n",
    "import cv2\n",
    "from PIL import Image\n",
    "\n",
    "import nibabel as nib\n",
    "from nilearn.image import new_img_like, resample_img\n",
    "from nilearn.plotting import plot_anat, view_img\n",
    "from niworkflows.viz.utils import cuts_from_bbox, robust_set_limits\n",
    "from niworkflows.utils.images import rotation2canonical, rotate_affine\n",
    "\n",
    "from halfpipe.utils.path import split_ext"
   ]
  },
  {
   "cell_type": "code",
   "execution_count": 2,
   "id": "35a66d3e-4a14-48ba-aa38-af02930c8276",
   "metadata": {},
   "outputs": [],
   "source": [
    "%matplotlib inline"
   ]
  },
  {
   "cell_type": "code",
   "execution_count": 3,
   "id": "83e5b299-b8c7-4ca9-9fc6-47301fe6c430",
   "metadata": {},
   "outputs": [],
   "source": [
    "base_directory = Path(\"/mnt/mbServerData/newdata/moods/halfpipe/bonn\")\n",
    "#Path(\"/Users/dominik/Downloads/usable\")\n",
    "#Path(\"/mnt/mbServerData/newdata/moods/halfpipe/bonn\")"
   ]
  },
  {
   "cell_type": "code",
   "execution_count": 4,
   "id": "e41e8c08-827b-48ef-8515-d44b4831520e",
   "metadata": {},
   "outputs": [],
   "source": [
    "exclude_files = list(base_directory.glob(\"exclude*.json\"))\n",
    "exclude_entries = list()\n",
    "\n",
    "for exclude_file in exclude_files:\n",
    "    with open(exclude_file) as file_handle:\n",
    "        exclude_entries.extend(json.load(file_handle))"
   ]
  },
  {
   "cell_type": "code",
   "execution_count": 5,
   "id": "a5ca7e77-1804-4124-b007-26d4b1c3b78b",
   "metadata": {},
   "outputs": [],
   "source": [
    "paths_by_tags = defaultdict(lambda: defaultdict(set))\n",
    "tags_by_paths = dict()\n",
    "\n",
    "bids_directory = base_directory / \"derivatives\" / \"fmriprep\"\n",
    "for bids_path in bids_directory.glob(\"**/*\"):\n",
    "    stem, extension = split_ext(bids_path)\n",
    "\n",
    "    if stem.startswith(\".\"):\n",
    "        continue  # skip hidden files\n",
    "\n",
    "    tokens = stem.split(\"_\")\n",
    "\n",
    "    tags = dict(\n",
    "        path=str(bids_directory), \n",
    "        suffix=tokens.pop(-1),\n",
    "        extension=extension,\n",
    "    )\n",
    "    tags_by_paths[bids_path] = tags\n",
    "\n",
    "    for token in tokens:\n",
    "        key, value = token.split(\"-\")\n",
    "        tags[key] = value\n",
    "    for key, value in tags.items():\n",
    "        paths_by_tags[key][value].add(bids_path)"
   ]
  },
  {
   "cell_type": "code",
   "execution_count": 6,
   "id": "74e7e024-5d28-456b-9e64-50eef497b387",
   "metadata": {},
   "outputs": [],
   "source": [
    "def get(**filters):\n",
    "    res = None\n",
    "    \n",
    "    for key, value in filters.items():\n",
    "        if key not in paths_by_tags:\n",
    "            # logger.info(f\"Unknown key \\\"{key}\\\"\")        \n",
    "            return None\n",
    "    \n",
    "        values = paths_by_tags[key]\n",
    "        if value is None:\n",
    "            for paths in values.values():\n",
    "                res -= paths\n",
    "            continue\n",
    "                \n",
    "        elif value not in values:\n",
    "            # logger.info(f\"Unknown value \\\"{value}\\\"\")        \n",
    "            return None\n",
    "        \n",
    "        paths = values[value]\n",
    "        if res is not None:\n",
    "            res &= paths\n",
    "        else:\n",
    "            res = paths.copy()\n",
    "    \n",
    "    return res\n",
    "\n",
    "def get_tag_value(path, key):\n",
    "    return tags_by_paths[path].get(key)"
   ]
  },
  {
   "cell_type": "code",
   "execution_count": 7,
   "id": "e170d5e9-603d-46b7-981d-17248d5b2921",
   "metadata": {},
   "outputs": [],
   "source": [
    "def _plot_anat_with_contours(image, segs=None, **plot_params):\n",
    "    nsegs = len(segs or [])\n",
    "    plot_params = plot_params or {}\n",
    "    # plot_params' values can be None, however they MUST NOT\n",
    "    # be None for colors and levels from this point on.\n",
    "    colors = plot_params.pop(\"colors\", None) or []\n",
    "    levels = plot_params.pop(\"levels\", None) or []\n",
    "    missing = nsegs - len(colors)\n",
    "    if missing > 0:  # missing may be negative\n",
    "        colors = colors + color_palette(\"husl\", missing)\n",
    "\n",
    "    colors = [[c] if not isinstance(c, list) else c for c in colors]\n",
    "\n",
    "    if not levels:\n",
    "        levels = [[0.5]] * nsegs\n",
    "\n",
    "    # anatomical\n",
    "    display = plot_anat(image, **plot_params)\n",
    "\n",
    "    # remove plot_anat -specific parameters\n",
    "    plot_params.pop(\"display_mode\")\n",
    "    plot_params.pop(\"cut_coords\")\n",
    "\n",
    "    plot_params[\"linewidths\"] = 0.5\n",
    "    for i in reversed(range(nsegs)):\n",
    "        plot_params[\"colors\"] = colors[i]\n",
    "        display.add_contours(segs[i], levels=levels[i], **plot_params)\n",
    "        \n",
    "    return display"
   ]
  },
  {
   "cell_type": "code",
   "execution_count": 8,
   "id": "222b69f0-8f85-4712-9dcf-b90936b7fa10",
   "metadata": {},
   "outputs": [],
   "source": [
    "target_width = 2048\n",
    "\n",
    "def to_rgb(display):\n",
    "    figure = display.frame_axes.figure\n",
    "    canvas = figure.canvas\n",
    "    \n",
    "    # scale to target_width\n",
    "    width, height = canvas.get_width_height()\n",
    "    figure.set_dpi(target_width / width * figure.get_dpi())\n",
    "    \n",
    "    canvas.draw()\n",
    "    width, height = canvas.get_width_height()\n",
    "    \n",
    "    image = np.frombuffer(\n",
    "        canvas.tostring_rgb(), dtype=np.uint8\n",
    "    ).reshape((height, width, -1))[..., :3]\n",
    "    \n",
    "    image = image[:, :target_width, :]  # crop rounding errors\n",
    "    \n",
    "    return image"
   ]
  },
  {
   "cell_type": "code",
   "execution_count": 54,
   "id": "f2844cbe-c184-4796-85ba-cbf257176c5d",
   "metadata": {},
   "outputs": [],
   "source": [
    "@dataclass\n",
    "class SkullStrip:\n",
    "    t1w: nib.Nifti1Image\n",
    "    mask: nib.Nifti1Image\n",
    "    label: Literal[\"usable\", \"unusable\"]\n",
    "    def to_image(self):\n",
    "        plot_params = dict(colors=None)\n",
    "\n",
    "        image_nii: nib.Nifti1Image = self.t1w\n",
    "        seg_nii = self.mask\n",
    "\n",
    "        canonical_r = rotation2canonical(image_nii)\n",
    "        image_nii = rotate_affine(image_nii, rot=canonical_r)\n",
    "        seg_nii = rotate_affine(seg_nii, rot=canonical_r)\n",
    "\n",
    "        data = image_nii.get_fdata()\n",
    "        plot_params = robust_set_limits(data, plot_params)\n",
    "\n",
    "        bbox_nii = seg_nii\n",
    "\n",
    "        cuts = cuts_from_bbox(bbox_nii, cuts=7)\n",
    "\n",
    "        images = list()\n",
    "        for d in plot_params.pop(\"dimensions\", (\"z\", \"x\", \"y\")):\n",
    "            plot_params[\"display_mode\"] = d\n",
    "            plot_params[\"cut_coords\"] = cuts[d]\n",
    "            display = _plot_anat_with_contours(\n",
    "                image_nii, segs=[seg_nii], **plot_params\n",
    "            )\n",
    "            images.append(to_rgb(display))\n",
    "            display.close()\n",
    "\n",
    "        image = np.vstack(images)\n",
    "        return image"
   ]
  },
  {
   "cell_type": "code",
   "execution_count": 10,
   "id": "47488c1e-0adb-493f-affa-280c974c03f6",
   "metadata": {},
   "outputs": [],
   "source": [
    "skull_strips = list()\n",
    "\n",
    "for exclude_entry in exclude_entries:\n",
    "    rating = exclude_entry[\"rating\"]\n",
    "    type = exclude_entry[\"type\"]\n",
    "    sub = exclude_entry[\"sub\"]\n",
    "    \n",
    "    if rating != \"good\":\n",
    "        continue\n",
    "        \n",
    "    if type != \"skull_strip_report\":\n",
    "        continue\n",
    "        \n",
    "    t1w_files = get(sub=sub, desc=\"preproc\", res=None, suffix=\"T1w\", extension=\".nii.gz\")\n",
    "    if t1w_files is None:\n",
    "        continue\n",
    "    (t1w_file,) = t1w_files\n",
    "    \n",
    "    mask_files = get(sub=sub, desc=\"brain\", res=None, suffix=\"mask\", extension=\".nii.gz\")\n",
    "    if mask_files is None:\n",
    "        continue\n",
    "    (mask_file,) = mask_files   \n",
    "        \n",
    "    skull_strips.append(\n",
    "        SkullStrip(\n",
    "            t1w=nib.load(t1w_file),\n",
    "            mask=nib.load(mask_file),\n",
    "        )\n",
    "    )"
   ]
  },
  {
   "cell_type": "markdown",
   "id": "509c7ef1",
   "metadata": {},
   "source": [
    "### Nifti2Numpy"
   ]
  },
  {
   "cell_type": "code",
   "execution_count": 11,
   "id": "9d064d1f",
   "metadata": {},
   "outputs": [],
   "source": [
    "class NiftiToNumpy():\n",
    "    def __call__(self,file):\n",
    "        a = nib.load(file)\n",
    "        a = nib.as_closest_canonical(a) # transform into RAS as proposed in nibabel documentation\n",
    "        a = np.array(a.dataobj)\n",
    "        a = np.float32(a)\n",
    "        return a"
   ]
  },
  {
   "cell_type": "markdown",
   "id": "850b9da4",
   "metadata": {},
   "source": [
    "## Augmentation Strategies functions"
   ]
  },
  {
   "cell_type": "markdown",
   "id": "3b3e0f06",
   "metadata": {},
   "source": [
    "### Random Rotate Mask"
   ]
  },
  {
   "cell_type": "code",
   "execution_count": 43,
   "id": "80d90ccf",
   "metadata": {},
   "outputs": [],
   "source": [
    "def randomRotateMask(skullstrip: SkullStrip, max_angle: int):\n",
    "    angle = random.uniform(-max_angle, max_angle)\n",
    "    \n",
    "    mask = skullstrip.mask\n",
    "    mask_data = np.asanyarray(mask.dataobj).astype(bool)\n",
    "    \n",
    "    bad_mask_data = ndimage.rotate(mask_data, angle, reshape=False, axes=(0,1), output=float) > 0.5\n",
    "    if not mask_data.shape == bad_mask_data.shape:\n",
    "        return None\n",
    "    bad_mask = new_img_like(mask, bad_mask_data, copy_header=True)\n",
    "    skullstrip.mask = bad_mask\n",
    "    \n",
    "    new_skullstrip = skullstrip # save as variable to return as file if necessary\n",
    "    # Show images\n",
    "    #plot_anat(bad_mask)\n",
    "    #image = new_skullstrip.to_image()\n",
    "    #figure = plt.figure(figsize=(20,10))\n",
    "    #plt.imshow(image)\n",
    "    #print(angle)\n",
    "    return new_skullstrip"
   ]
  },
  {
   "cell_type": "markdown",
   "id": "3dce8bf8",
   "metadata": {},
   "source": [
    "### Random Flipping"
   ]
  },
  {
   "cell_type": "code",
   "execution_count": 42,
   "id": "bd8d47d0",
   "metadata": {},
   "outputs": [],
   "source": [
    "def randomSkullFlip(t1w_file: Path, mask_file: Path):\n",
    "    testskull = SkullStrip(t1w=nib.load(t1w_file), mask=nib.load(mask_file))\n",
    "    a = NiftiToNumpy()\n",
    "    b = a(t1w_file)\n",
    "    #t1w = skullstrip.t1w\n",
    "    #t1w_data = nib.as_closest_canonical(t1w)\n",
    "    #t1w_data = np.array(t1w_data.dataobj).astype(np.float32)\n",
    "    #plot_anat(nib.load(t1w_file))\n",
    "    flipped_data = np.fliplr(b) # can change to ud and maybe on different axis (0,1)(1,2)(0,2)\n",
    "    \n",
    "    nifti_mask = nib.load(mask_file)\n",
    "    ref_affine = nifti_mask.affine\n",
    "    new_t1w = nib.Nifti1Image(flipped_data, affine=ref_affine)\n",
    "    testskull.t1w = new_t1w\n",
    "    return testskull\n",
    "    #new_image = testskull.to_image()\n",
    "    #figure = plt.figure(figsize=(20,10))\n",
    "    #plt.imshow(new_image)"
   ]
  },
  {
   "cell_type": "markdown",
   "id": "25ca8a0e",
   "metadata": {},
   "source": [
    "### Increase Contrast"
   ]
  },
  {
   "cell_type": "code",
   "execution_count": 39,
   "id": "d0a683f3",
   "metadata": {},
   "outputs": [],
   "source": [
    "def increaseContrast(skullstrip: SkullStrip):\n",
    "    t1w = skullstrip.t1w\n",
    "    #plot_anat(t1w)\n",
    "    t1w_data = np.asanyarray(t1w.dataobj)\n",
    "    \n",
    "    minval = np.percentile(t1w_data, 2)\n",
    "    maxval = np.percentile(t1w_data, 98)\n",
    "    pixvals = np.clip(t1w_data, minval, maxval)\n",
    "    pixvals = ((pixvals - minval) / (maxval - minval)) * 255\n",
    "    new_t1w = new_img_like(t1w, pixvals, copy_header=True)\n",
    "    skullstrip.t1w = new_t1w\n",
    "    new_skullstrip = skullstrip # save as variable to return as file if necessary\n",
    "    #plot_anat(new_t1w)\n",
    "    #image = new_skullstrip.to_image()\n",
    "    #figure = plt.figure(figsize=(20,10))\n",
    "    #plt.imshow(image)\n",
    "    return new_skullstrip"
   ]
  },
  {
   "cell_type": "markdown",
   "id": "95125faf",
   "metadata": {},
   "source": [
    "### Random Noise\n"
   ]
  },
  {
   "cell_type": "code",
   "execution_count": 40,
   "id": "74799dc9",
   "metadata": {},
   "outputs": [],
   "source": [
    "def randomNoise(skullstrip: SkullStrip):\n",
    "    t1w = skullstrip.t1w\n",
    "    #plot_anat(t1w)\n",
    "    t1w_data = np.asanyarray(t1w.dataobj).astype(np.uint8) # because gaussian noise adds a np.uint8 mask to the img\n",
    "    \n",
    "    noise_t1w_data = random_noise(t1w_data, mode='gaussian', var=0.01**2)\n",
    "    noise_img = (255*noise_t1w_data).astype(np.uint8)\n",
    "\n",
    "    noise_t1w = new_img_like(t1w, noise_img, copy_header=True)\n",
    "    \n",
    "    # skullstrip.t1w = noise_t1w\n",
    "    # new_skullstrip = skullstrip # save as variable to return as file if necessary\n",
    "    new_skullstrip = SkullStrip(t1w=noise_t1w, mask=skullstrip.mask)\n",
    "    #plot_anat(noise_t1w)\n",
    "    #image = new_skullstrip.to_image()\n",
    "    #figure = plt.figure(figsize=(20,10))\n",
    "    #plt.imshow(image)\n",
    "    return new_skullstrip"
   ]
  },
  {
   "cell_type": "markdown",
   "id": "8a495780",
   "metadata": {},
   "source": [
    "### Remove text and axis from nifti Image (not working yet!)"
   ]
  },
  {
   "cell_type": "code",
   "execution_count": 16,
   "id": "4cd7243d",
   "metadata": {},
   "outputs": [],
   "source": [
    "def removeUnnecessaryText(skullstrip: SkullStrip):\n",
    "    t1w = skullstrip.t1w\n",
    "    plot_anat(t1w)\n",
    "    t1w_data = np.asanyarray(t1w.dataobj).astype(np.uint8)\n",
    "    print(t1w_data.shape)\n",
    "    \n",
    "    # coeffs = np.array([0.114, 0.587, 0.229])\n",
    "    # image_gray = (t1w_data.astype(np.float) * coeffs).sum(axis=-1)\n",
    "    # image_gray = image_gray.astype(t1w_data.dtype)\n",
    "    #t1w_data = t1w_data[:,:,0]\n",
    "    #grayscale_img = cv2.cvtColor(t1w_data, cv2.COLOR_BGR2GRAY)\n",
    "    mask = cv2.threshold(t1w_data, 210, 255, cv2.THRESH_BINARY)[1][:,:,0]\n",
    "    #mask2 = cv2.threshold(t1w_data, 210, 255, cv2.THRESH_BINARY)\n",
    "    print(mask.dtype)\n",
    "    #print(mask2.shape)\n",
    "    #mask = np.uint8(mask)\n",
    "    dst = cv2.inpaint(t1w_data[:,:,0], mask, 3, cv2.INPAINT_NS)\n",
    "    print(dst.shape)\n",
    "    np.expand_dims(dst, axis=2)\n",
    "    print(dst.shape)\n",
    "    #dst.shape = t1w_data.shape\n",
    "    dst.shape = np.dstack((dst, t1w_data)).shape\n",
    "    print(dst)\n",
    "    new_t1w = new_img_like(t1w, dst, copy_header=True)\n",
    "    skullstrip.t1w = new_t1w\n",
    "    new_skullstrip = skullstrip # save as variable to return as file if necessary\n",
    "    plot_anat(new_t1w)"
   ]
  },
  {
   "cell_type": "markdown",
   "id": "d5b080f4",
   "metadata": {},
   "source": [
    "## Load usable files\n"
   ]
  },
  {
   "cell_type": "markdown",
   "id": "d4f153e1",
   "metadata": {},
   "source": [
    "### Load one test skullstrip"
   ]
  },
  {
   "cell_type": "code",
   "execution_count": 17,
   "id": "1ddc5ecd",
   "metadata": {},
   "outputs": [],
   "source": [
    "t1wpath = \"/Users/dominik/Downloads/usable/ds-integrament_site-berlin_sub-PIABR9GGF_desc-preproc_T1w.nii.gz\"\n",
    "maskpath = \"/Users/dominik/Downloads/usable/ds-integrament_site-berlin_sub-PIABR9GGF_desc-brain_mask.nii.gz\"\n",
    "test_skullstrip = SkullStrip(t1w=nib.load(t1wpath),\n",
    "                              mask=nib.load(maskpath),)"
   ]
  },
  {
   "cell_type": "code",
   "execution_count": 18,
   "id": "a3e670a6",
   "metadata": {},
   "outputs": [],
   "source": [
    "#randomNoise(skullstrip=test_skullstrip)"
   ]
  },
  {
   "cell_type": "code",
   "execution_count": 19,
   "id": "9a49dd68",
   "metadata": {},
   "outputs": [],
   "source": [
    "#increaseContrast(skullstrip=test_skullstrip)"
   ]
  },
  {
   "cell_type": "code",
   "execution_count": 20,
   "id": "857a5a78",
   "metadata": {},
   "outputs": [],
   "source": [
    "#randomRotateMask(skullstrip=test_skullstrip, max_angle=90)"
   ]
  },
  {
   "cell_type": "code",
   "execution_count": 21,
   "id": "031e44c5",
   "metadata": {},
   "outputs": [],
   "source": [
    "#randomSkullFlip(t1w_file=t1wpath, mask_file=maskpath)"
   ]
  },
  {
   "cell_type": "code",
   "execution_count": 22,
   "id": "f185612d-28ef-46a3-94e2-5a7d13b964e3",
   "metadata": {},
   "outputs": [],
   "source": [
    "#skull_strip = test_skullstrip\n",
    "#image = skull_strip.to_image()\n",
    "#print(image.shape)\n",
    "#print(type(image))\n",
    "#print(image.dtype)\n",
    "#new_img = resize(image, (227,227,256))\n",
    "#print(new_img.shape)\n",
    "#print(new_img.dtype)\n",
    "#u_img = np.copy(new_img).astype('uint8')\n",
    "#print(u_img.dtype)\n",
    "#figure = plt.figure(figsize=(20,10))\n",
    "#plt.imshow(image)"
   ]
  },
  {
   "cell_type": "code",
   "execution_count": 23,
   "id": "5230d772",
   "metadata": {},
   "outputs": [],
   "source": [
    "def randomRotation(image, max_angle): # add types\n",
    "    # randomly rotate image at random angle\n",
    "    # add random selection on which axis\n",
    "    \n",
    "    # rotate along z-axis (xy plane)\n",
    "    angle = random.uniform(-max_angle, max_angle)\n",
    "    image1 = scipy.ndimage.interpolation.rotate(image, angle, mode='nearest', axes=(0, 1), reshape=False)\n",
    "\n",
    "    # rotate along y-axis (xz plane)\n",
    "    #angle = random.uniform(-max_angle, max_angle)\n",
    "    #image = scipy.ndimage.interpolation.rotate(image, angle, mode='nearest', axes=(0, 2), reshape=False)\n",
    "\n",
    "    # rotate along x-axis (yz plane)\n",
    "    #angle = random.uniform(-max_angle, max_angle)\n",
    "    #image = scipy.ndimage.interpolation.rotate(image, angle, mode='nearest', axes=(1, 2), reshape=False)"
   ]
  },
  {
   "cell_type": "code",
   "execution_count": 24,
   "id": "dee042f1",
   "metadata": {},
   "outputs": [],
   "source": [
    "# show images\n",
    "#nifti_img = nib.load(t1wpath)\n",
    "#nifti_img = nib.as_closest_canonical(nifti_img)\n",
    "#nii_data = nifti_img.get_fdata()\n",
    "#nii_aff = nifti_img.affine\n",
    "#nii_hdr = nifti_img.header\n",
    "#print(nii_aff, \"\\n\", nii_hdr)\n",
    "#print(nii_data.shape)\n",
    "#for slice_Number in range(nii_data.shape[2]):\n",
    "#    plt.imshow(nii_data[:,:,slice_Number])\n",
    "#    plt.show()"
   ]
  },
  {
   "cell_type": "code",
   "execution_count": 25,
   "id": "975964d4",
   "metadata": {},
   "outputs": [],
   "source": [
    "#im = nib.load(t1wpath).get_fdata()\n",
    "#result1 = resize(im, (227,227,256), order=1,preserve_range=False)\n",
    "#for slice_Number in range(result1.shape[2]):\n",
    "#    plt.imshow(result1[:,:,slice_Number])\n",
    "#    plt.show()"
   ]
  },
  {
   "cell_type": "markdown",
   "id": "1e3ffc1e",
   "metadata": {},
   "source": [
    "## Load complete datafolder"
   ]
  },
  {
   "cell_type": "code",
   "execution_count": 26,
   "id": "e07ef6bf",
   "metadata": {},
   "outputs": [],
   "source": [
    "root_dir = \"/Users/dominik/Downloads/usable\""
   ]
  },
  {
   "cell_type": "markdown",
   "id": "be6ea99f",
   "metadata": {},
   "source": [
    "Iterate through folder; ###Merke: only skullflipping requires paths all other just need skullstrips\n",
    "skullstrips zusammenbauen aus gleichnamigen t1w + masks\n",
    "do augmentation -> add to usable/unusable list\n",
    "keep 50/50 ratio between lists"
   ]
  },
  {
   "cell_type": "markdown",
   "id": "03e5a6fc",
   "metadata": {},
   "source": [
    "## training data generator"
   ]
  },
  {
   "cell_type": "code",
   "execution_count": 51,
   "id": "25149d5c",
   "metadata": {},
   "outputs": [],
   "source": [
    "def build_trainingData(file_dir):\n",
    "    file_list = sorted(os.listdir(file_dir))\n",
    "    usable_skullstrips = []\n",
    "    unusable_skullstrips = []\n",
    "    \n",
    "    file_list_len = len(file_list)\n",
    "    idx = 0\n",
    "    for cur_t1w,cur_mask in zip(file_list[0::2], file_list[1::2]):\n",
    "        old_skullstrip = SkullStrip(t1w=nib.load(cur_t1w), mask=nib.load(cur_mask))\n",
    "        \n",
    "        if idx<file_list_len//4:\n",
    "            usable_skullstrips.append(increaseContrast(skullstrip=old_skullstrip))\n",
    "            \n",
    "        rand_num = random.randint(0,2)\n",
    "        if rand_num == 0:\n",
    "            unusable_skullstrips.append(randomNoise(skullstrip=old_skullstrip))\n",
    "        elif rand_num == 1:\n",
    "            unusable_skullstrips.append(randomSkullFlip(t1w_file=t1w, mask_file=mask))\n",
    "        elif rand_num == 2:\n",
    "            unusable_skullstrips.append(randomRotateMask(skullstrip=old_skullstrip))\n",
    "        idx +=1\n",
    "    print(len(usable_skullstrips))\n",
    "    print(len(unusable_skullstrips))\n",
    "    \n"
   ]
  },
  {
   "cell_type": "code",
   "execution_count": 52,
   "id": "f3111fc1",
   "metadata": {},
   "outputs": [
    {
     "ename": "FileNotFoundError",
     "evalue": "No such file or no access: 'ds-integrament_site-berlin_sub-PIAB16T5Z_desc-brain_mask.nii.gz'",
     "output_type": "error",
     "traceback": [
      "\u001b[0;31m---------------------------------------------------------------------------\u001b[0m",
      "\u001b[0;31mFileNotFoundError\u001b[0m                         Traceback (most recent call last)",
      "File \u001b[0;32m/Library/Frameworks/Python.framework/Versions/3.10/lib/python3.10/site-packages/nibabel/loadsave.py:90\u001b[0m, in \u001b[0;36mload\u001b[0;34m(filename, **kwargs)\u001b[0m\n\u001b[1;32m     89\u001b[0m \u001b[38;5;28;01mtry\u001b[39;00m:\n\u001b[0;32m---> 90\u001b[0m     stat_result \u001b[38;5;241m=\u001b[39m \u001b[43mos\u001b[49m\u001b[38;5;241;43m.\u001b[39;49m\u001b[43mstat\u001b[49m\u001b[43m(\u001b[49m\u001b[43mfilename\u001b[49m\u001b[43m)\u001b[49m\n\u001b[1;32m     91\u001b[0m \u001b[38;5;28;01mexcept\u001b[39;00m \u001b[38;5;167;01mOSError\u001b[39;00m:\n",
      "\u001b[0;31mFileNotFoundError\u001b[0m: [Errno 2] No such file or directory: 'ds-integrament_site-berlin_sub-PIAB16T5Z_desc-brain_mask.nii.gz'",
      "\nDuring handling of the above exception, another exception occurred:\n",
      "\u001b[0;31mFileNotFoundError\u001b[0m                         Traceback (most recent call last)",
      "Input \u001b[0;32mIn [52]\u001b[0m, in \u001b[0;36m<cell line: 1>\u001b[0;34m()\u001b[0m\n\u001b[0;32m----> 1\u001b[0m \u001b[43mbuild_trainingData\u001b[49m\u001b[43m(\u001b[49m\u001b[43mroot_dir\u001b[49m\u001b[43m)\u001b[49m\n",
      "Input \u001b[0;32mIn [51]\u001b[0m, in \u001b[0;36mbuild_trainingData\u001b[0;34m(file_dir)\u001b[0m\n\u001b[1;32m      7\u001b[0m idx \u001b[38;5;241m=\u001b[39m \u001b[38;5;241m0\u001b[39m\n\u001b[1;32m      8\u001b[0m \u001b[38;5;28;01mfor\u001b[39;00m cur_t1w,cur_mask \u001b[38;5;129;01min\u001b[39;00m \u001b[38;5;28mzip\u001b[39m(file_list[\u001b[38;5;241m0\u001b[39m::\u001b[38;5;241m2\u001b[39m], file_list[\u001b[38;5;241m1\u001b[39m::\u001b[38;5;241m2\u001b[39m]):\n\u001b[0;32m----> 9\u001b[0m     old_skullstrip \u001b[38;5;241m=\u001b[39m SkullStrip(t1w\u001b[38;5;241m=\u001b[39m\u001b[43mnib\u001b[49m\u001b[38;5;241;43m.\u001b[39;49m\u001b[43mload\u001b[49m\u001b[43m(\u001b[49m\u001b[43mcur_t1w\u001b[49m\u001b[43m)\u001b[49m, mask\u001b[38;5;241m=\u001b[39mnib\u001b[38;5;241m.\u001b[39mload(cur_mask))\n\u001b[1;32m     10\u001b[0m     \u001b[38;5;28;01mif\u001b[39;00m idx\u001b[38;5;241m<\u001b[39mfile_list_len\u001b[38;5;241m/\u001b[39m\u001b[38;5;241m/\u001b[39m\u001b[38;5;241m4\u001b[39m:\n\u001b[1;32m     11\u001b[0m         usable_skullstrips\u001b[38;5;241m.\u001b[39mappend(increaseContrast(skullstrip\u001b[38;5;241m=\u001b[39mold_skullstrip))\n",
      "File \u001b[0;32m/Library/Frameworks/Python.framework/Versions/3.10/lib/python3.10/site-packages/nibabel/loadsave.py:92\u001b[0m, in \u001b[0;36mload\u001b[0;34m(filename, **kwargs)\u001b[0m\n\u001b[1;32m     90\u001b[0m     stat_result \u001b[38;5;241m=\u001b[39m os\u001b[38;5;241m.\u001b[39mstat(filename)\n\u001b[1;32m     91\u001b[0m \u001b[38;5;28;01mexcept\u001b[39;00m \u001b[38;5;167;01mOSError\u001b[39;00m:\n\u001b[0;32m---> 92\u001b[0m     \u001b[38;5;28;01mraise\u001b[39;00m \u001b[38;5;167;01mFileNotFoundError\u001b[39;00m(\u001b[38;5;124mf\u001b[39m\u001b[38;5;124m\"\u001b[39m\u001b[38;5;124mNo such file or no access: \u001b[39m\u001b[38;5;124m'\u001b[39m\u001b[38;5;132;01m{\u001b[39;00mfilename\u001b[38;5;132;01m}\u001b[39;00m\u001b[38;5;124m'\u001b[39m\u001b[38;5;124m\"\u001b[39m)\n\u001b[1;32m     93\u001b[0m \u001b[38;5;28;01mif\u001b[39;00m stat_result\u001b[38;5;241m.\u001b[39mst_size \u001b[38;5;241m<\u001b[39m\u001b[38;5;241m=\u001b[39m \u001b[38;5;241m0\u001b[39m:\n\u001b[1;32m     94\u001b[0m     \u001b[38;5;28;01mraise\u001b[39;00m ImageFileError(\u001b[38;5;124mf\u001b[39m\u001b[38;5;124m\"\u001b[39m\u001b[38;5;124mEmpty file: \u001b[39m\u001b[38;5;124m'\u001b[39m\u001b[38;5;132;01m{\u001b[39;00mfilename\u001b[38;5;132;01m}\u001b[39;00m\u001b[38;5;124m'\u001b[39m\u001b[38;5;124m\"\u001b[39m)\n",
      "\u001b[0;31mFileNotFoundError\u001b[0m: No such file or no access: 'ds-integrament_site-berlin_sub-PIAB16T5Z_desc-brain_mask.nii.gz'"
     ]
    }
   ],
   "source": [
    "build_trainingData(root_dir)"
   ]
  },
  {
   "cell_type": "code",
   "execution_count": null,
   "id": "a3f572d9",
   "metadata": {},
   "outputs": [],
   "source": []
  }
 ],
 "metadata": {
  "kernelspec": {
   "display_name": "Python 3 (ipykernel)",
   "language": "python",
   "name": "python3"
  },
  "language_info": {
   "codemirror_mode": {
    "name": "ipython",
    "version": 3
   },
   "file_extension": ".py",
   "mimetype": "text/x-python",
   "name": "python",
   "nbconvert_exporter": "python",
   "pygments_lexer": "ipython3",
   "version": "3.10.1"
  },
  "vscode": {
   "interpreter": {
    "hash": "aee8b7b246df8f9039afb4144a1f6fd8d2ca17a180786b69acc140d282b71a49"
   }
  }
 },
 "nbformat": 4,
 "nbformat_minor": 5
}
